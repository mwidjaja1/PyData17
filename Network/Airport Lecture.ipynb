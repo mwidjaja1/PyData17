{
 "cells": [
  {
   "cell_type": "markdown",
   "metadata": {},
   "source": [
    "## Exploratory analysis of the US Airport Dataset\n",
    "\n",
    "This dataset contains data for 5 years[1995, 2000, 2005, 2010, 2015] of flights between various US airports and the carrier on those routes.\n",
    "\n",
    "Let's see what can we make out of this!"
   ]
  },
  {
   "cell_type": "code",
   "execution_count": 1,
   "metadata": {},
   "outputs": [],
   "source": [
    "import networkx as nx\n",
    "import pandas as pd\n",
    "air_data = pd.read_csv('dump_output.csv')"
   ]
  },
  {
   "cell_type": "markdown",
   "metadata": {},
   "source": [
    "We create 5 graphs (one for each year), it may take a couple of minutes to load all the graphs."
   ]
  },
  {
   "cell_type": "code",
   "execution_count": 7,
   "metadata": {},
   "outputs": [],
   "source": [
    "air_graph_1995 = air_data[air_data.YEAR == 1995]\n",
    "G_1995 = nx.DiGraph()\n",
    "for row in air_graph_1995.iterrows():\n",
    "    G_1995.add_edge(row[1].ORIGIN, row[1].DEST)"
   ]
  },
  {
   "cell_type": "code",
   "execution_count": 8,
   "metadata": {},
   "outputs": [],
   "source": [
    "air_graph_2000 = air_data[air_data.YEAR == 2000]\n",
    "G_2000 = nx.DiGraph()\n",
    "for row in air_graph_2000.iterrows():\n",
    "    G_2000.add_edge(row[1].ORIGIN, row[1].DEST)"
   ]
  },
  {
   "cell_type": "code",
   "execution_count": 9,
   "metadata": {},
   "outputs": [],
   "source": [
    "air_graph_2005 = air_data[air_data.YEAR == 2005]\n",
    "G_2005 = nx.DiGraph()\n",
    "for row in air_graph_2005.iterrows():\n",
    "    G_2005.add_edge(row[1].ORIGIN, row[1].DEST)"
   ]
  },
  {
   "cell_type": "code",
   "execution_count": 10,
   "metadata": {},
   "outputs": [],
   "source": [
    "air_graph_2010 = air_data[air_data.YEAR == 2010]\n",
    "G_2010 = nx.DiGraph()\n",
    "for row in air_graph_2010.iterrows():\n",
    "    G_2010.add_edge(row[1].ORIGIN, row[1].DEST)"
   ]
  },
  {
   "cell_type": "code",
   "execution_count": 11,
   "metadata": {},
   "outputs": [],
   "source": [
    "air_graph_2015 = air_data[air_data.YEAR == 2015]\n",
    "G_2015 = nx.DiGraph()\n",
    "for row in air_graph_2015.iterrows():\n",
    "    G_2015.add_edge(row[1].ORIGIN, row[1].DEST)"
   ]
  },
  {
   "cell_type": "markdown",
   "metadata": {},
   "source": [
    "So let's have a look at the important nodes in this network, i.e. important airports in this network. We'll use pagerank, betweenness centrality and degree centrality."
   ]
  },
  {
   "cell_type": "code",
   "execution_count": 12,
   "metadata": {
    "scrolled": true
   },
   "outputs": [
    {
     "data": {
      "text/plain": [
       "[('ANC', 0.010425531156396328),\n",
       " ('HPN', 0.008715287139161585),\n",
       " ('FAI', 0.007865131822111036),\n",
       " ('DFW', 0.007168038232113768),\n",
       " ('DEN', 0.006557279519803016),\n",
       " ('ATL', 0.006367579588749718),\n",
       " ('ORD', 0.006178836107660133),\n",
       " ('YIP', 0.005821525504523931),\n",
       " ('ADQ', 0.005482597083474197),\n",
       " ('MSP', 0.005481962582230958)]"
      ]
     },
     "execution_count": 12,
     "metadata": {},
     "output_type": "execute_result"
    }
   ],
   "source": [
    "# Anchorage is somehow high here because it's connected to JFK & LAX only, and those two lift ANC up\n",
    "sorted(nx.pagerank(G_2015).items(), key=lambda x:x[1], reverse=True)[0:10]"
   ]
  },
  {
   "cell_type": "code",
   "execution_count": 13,
   "metadata": {},
   "outputs": [
    {
     "data": {
      "text/plain": [
       "[('ANC', 0.2890745848058655),\n",
       " ('FAI', 0.08042857784594376),\n",
       " ('SEA', 0.06745549919241688),\n",
       " ('HPN', 0.0604681017853471),\n",
       " ('ORD', 0.045544143864829294),\n",
       " ('ADQ', 0.040170160000905716),\n",
       " ('DEN', 0.03854325136424145),\n",
       " ('BFI', 0.03811277548952858),\n",
       " ('MSP', 0.037748093423406244),\n",
       " ('TEB', 0.036229439542316354)]"
      ]
     },
     "execution_count": 13,
     "metadata": {},
     "output_type": "execute_result"
    }
   ],
   "source": [
    "# ANC is connected to Alaska regional airports, so if we remove ANC, all of Alaska fall off\n",
    "sorted(nx.betweenness_centrality(G_2015).items(), key=lambda x:x[1], reverse=True)[0:10]"
   ]
  },
  {
   "cell_type": "code",
   "execution_count": 14,
   "metadata": {},
   "outputs": [
    {
     "data": {
      "text/plain": [
       "[('ATL', 0.3643595863166269),\n",
       " ('ORD', 0.354813046937152),\n",
       " ('DFW', 0.3420843277645187),\n",
       " ('MSP', 0.3261734287987271),\n",
       " ('DEN', 0.31821797931583135),\n",
       " ('ANC', 0.3046937151949085),\n",
       " ('MEM', 0.29196499602227527),\n",
       " ('LAX', 0.2840095465393795),\n",
       " ('IAH', 0.28082736674622116),\n",
       " ('DTW', 0.27446300715990457)]"
      ]
     },
     "execution_count": 14,
     "metadata": {},
     "output_type": "execute_result"
    }
   ],
   "source": [
    "# The only model to say it as it is, and ANC is not the top for once\n",
    "sorted(nx.degree_centrality(G_2015).items(), key=lambda x:x[1], reverse=True)[0:10]"
   ]
  },
  {
   "cell_type": "markdown",
   "metadata": {},
   "source": [
    "'ANC' is the airport code of Anchorage airport, a place in Alaska, and according to pagerank and betweenness centrality it is the most important airport in this network Isn't that weird? Thoughts?\n",
    "\n",
    "related blog post: https://toreopsahl.com/2011/08/12/why-anchorage-is-not-that-important-binary-ties-and-sample-selection/"
   ]
  },
  {
   "cell_type": "markdown",
   "metadata": {},
   "source": [
    "Let's find the airline which operates the most routes every year? The thing to take into account is routes not flights as this dataset gives us the routes."
   ]
  },
  {
   "cell_type": "code",
   "execution_count": 15,
   "metadata": {},
   "outputs": [],
   "source": [
    "airline = [(i, air_data[air_data.YEAR == i].UNIQUE_CARRIER_NAME.value_counts()[0:5].reset_index().rename(columns={0: 'Airline', 'UNIQUE_CARRIER_NAME': 'count'})) for i in [1995, 2000, 2005, 2010, 2015]]"
   ]
  },
  {
   "cell_type": "code",
   "execution_count": 16,
   "metadata": {},
   "outputs": [
    {
     "data": {
      "text/plain": [
       "[(1995,                         index  count\n",
       "  0             US Airways Inc.  28606\n",
       "  1        Delta Air Lines Inc.  21009\n",
       "  2     Northwest Airlines Inc.  17636\n",
       "  3       United Air Lines Inc.  17224\n",
       "  4  Continental Air Lines Inc.  13847),\n",
       " (2000,                      index  count\n",
       "  0          US Airways Inc.  23343\n",
       "  1    United Air Lines Inc.  21345\n",
       "  2     Delta Air Lines Inc.  20675\n",
       "  3  Northwest Airlines Inc.  19715\n",
       "  4   Southwest Airlines Co.  16603),\n",
       " (2005,                          index  count\n",
       "  0       Southwest Airlines Co.  20869\n",
       "  1  Federal Express Corporation  19425\n",
       "  2      Northwest Airlines Inc.  17300\n",
       "  3        United Air Lines Inc.  15056\n",
       "  4         Delta Air Lines Inc.  14875),\n",
       " (2010,                          index  count\n",
       "  0       Southwest Airlines Co.  26916\n",
       "  1         Delta Air Lines Inc.  26914\n",
       "  2  Federal Express Corporation  17071\n",
       "  3    Hageland Aviation Service  16127\n",
       "  4        SkyWest Airlines Inc.  13185),\n",
       " (2015,                       index  count\n",
       "  0      Delta Air Lines Inc.  39816\n",
       "  1    Southwest Airlines Co.  35168\n",
       "  2     United Air Lines Inc.  26154\n",
       "  3  ExpressJet Airlines Inc.  19917\n",
       "  4     SkyWest Airlines Inc.  19376)]"
      ]
     },
     "execution_count": 16,
     "metadata": {},
     "output_type": "execute_result"
    }
   ],
   "source": [
    "# count of routes of top 5 airlines of each year\n",
    "airline"
   ]
  },
  {
   "cell_type": "code",
   "execution_count": 17,
   "metadata": {},
   "outputs": [
    {
     "data": {
      "text/plain": [
       "<matplotlib.legend.Legend at 0x151b76c198>"
      ]
     },
     "execution_count": 17,
     "metadata": {},
     "output_type": "execute_result"
    },
    {
     "data": {
      "image/png": "[encoded data removed]",
      "text/plain": [
       "<matplotlib.figure.Figure at 0x15154c1710>"
      ]
     },
     "metadata": {},
     "output_type": "display_data"
    }
   ],
   "source": [
    "import matplotlib.pyplot as plt\n",
    "%matplotlib inline\n",
    "\n",
    "# dictionary to store data to plot\n",
    "d = {}\n",
    "for i, year in airline:\n",
    "    for row in year.iterrows():\n",
    "        if row[1][0] in d:\n",
    "            d[row[1][0]].append((i, row[1][1]))\n",
    "        else:\n",
    "            d[row[1][0]] = [(i, row[1][1])]\n",
    "            \n",
    "plt.figure(num=None, figsize=(10,8), dpi=80, facecolor='w', edgecolor='k')\n",
    "labels = []\n",
    "for i, j in d.items():\n",
    "    year = [k for k, l in j]\n",
    "    per = [l for k,l in j]\n",
    "    plt.plot(year, per)\n",
    "    labels.append(i)\n",
    "plt.legend(labels, ncol=4, loc='upper center', \n",
    "           bbox_to_anchor=[0.5, 1.1], \n",
    "           columnspacing=1.0, labelspacing=0.0,\n",
    "           handletextpad=0.0, handlelength=1.5,\n",
    "           fancybox=True, shadow=True)"
   ]
  },
  {
   "cell_type": "code",
   "execution_count": 20,
   "metadata": {},
   "outputs": [
    {
     "ename": "NetworkXError",
     "evalue": "Graph is not weakly connected.",
     "output_type": "error",
     "traceback": [
      "\u001b[0;31m---------------------------------------------------------------------------\u001b[0m",
      "\u001b[0;31mNetworkXError\u001b[0m                             Traceback (most recent call last)",
      "\u001b[0;32m<ipython-input-20-258ce4869d52>\u001b[0m in \u001b[0;36m<module>\u001b[0;34m()\u001b[0m\n\u001b[0;32m----> 1\u001b[0;31m \u001b[0mnx\u001b[0m\u001b[0;34m.\u001b[0m\u001b[0maverage_shortest_path_length\u001b[0m\u001b[0;34m(\u001b[0m\u001b[0mG_2015\u001b[0m\u001b[0;34m)\u001b[0m\u001b[0;34m\u001b[0m\u001b[0m\n\u001b[0m",
      "\u001b[0;32m~/anaconda3/envs/networkx/lib/python3.6/site-packages/networkx/algorithms/shortest_paths/generic.py\u001b[0m in \u001b[0;36maverage_shortest_path_length\u001b[0;34m(G, weight)\u001b[0m\n\u001b[1;32m    320\u001b[0m     \u001b[0;31m# Shortest path length is undefined if the graph is disconnected.\u001b[0m\u001b[0;34m\u001b[0m\u001b[0;34m\u001b[0m\u001b[0m\n\u001b[1;32m    321\u001b[0m     \u001b[0;32mif\u001b[0m \u001b[0mG\u001b[0m\u001b[0;34m.\u001b[0m\u001b[0mis_directed\u001b[0m\u001b[0;34m(\u001b[0m\u001b[0;34m)\u001b[0m \u001b[0;32mand\u001b[0m \u001b[0;32mnot\u001b[0m \u001b[0mnx\u001b[0m\u001b[0;34m.\u001b[0m\u001b[0mis_weakly_connected\u001b[0m\u001b[0;34m(\u001b[0m\u001b[0mG\u001b[0m\u001b[0;34m)\u001b[0m\u001b[0;34m:\u001b[0m\u001b[0;34m\u001b[0m\u001b[0m\n\u001b[0;32m--> 322\u001b[0;31m         \u001b[0;32mraise\u001b[0m \u001b[0mnx\u001b[0m\u001b[0;34m.\u001b[0m\u001b[0mNetworkXError\u001b[0m\u001b[0;34m(\u001b[0m\u001b[0;34m\"Graph is not weakly connected.\"\u001b[0m\u001b[0;34m)\u001b[0m\u001b[0;34m\u001b[0m\u001b[0m\n\u001b[0m\u001b[1;32m    323\u001b[0m     \u001b[0;32mif\u001b[0m \u001b[0;32mnot\u001b[0m \u001b[0mG\u001b[0m\u001b[0;34m.\u001b[0m\u001b[0mis_directed\u001b[0m\u001b[0;34m(\u001b[0m\u001b[0;34m)\u001b[0m \u001b[0;32mand\u001b[0m \u001b[0;32mnot\u001b[0m \u001b[0mnx\u001b[0m\u001b[0;34m.\u001b[0m\u001b[0mis_connected\u001b[0m\u001b[0;34m(\u001b[0m\u001b[0mG\u001b[0m\u001b[0;34m)\u001b[0m\u001b[0;34m:\u001b[0m\u001b[0;34m\u001b[0m\u001b[0m\n\u001b[1;32m    324\u001b[0m         \u001b[0;32mraise\u001b[0m \u001b[0mnx\u001b[0m\u001b[0;34m.\u001b[0m\u001b[0mNetworkXError\u001b[0m\u001b[0;34m(\u001b[0m\u001b[0;34m\"Graph is not connected.\"\u001b[0m\u001b[0;34m)\u001b[0m\u001b[0;34m\u001b[0m\u001b[0m\n",
      "\u001b[0;31mNetworkXError\u001b[0m: Graph is not weakly connected."
     ]
    }
   ],
   "source": [
    "# There's something wrong here, it's implying there are places in America which cannot connect to with each other\n",
    "nx.average_shortest_path_length(G_2015)"
   ]
  },
  {
   "cell_type": "code",
   "execution_count": 21,
   "metadata": {},
   "outputs": [
    {
     "data": {
      "text/plain": [
       "3.028101946281858"
      ]
     },
     "execution_count": 21,
     "metadata": {},
     "output_type": "execute_result"
    }
   ],
   "source": [
    "# In reality, there are three airports which are formatted weird\n",
    "# and another two that share the same code\n",
    "list(nx.connected_components(G_2015.to_undirected()))  # Scroll all the way down to see the bug\n",
    "G_2015.remove_nodes_from(['AIK', 'SPB', 'SSB'])"
   ]
  },
  {
   "cell_type": "code",
   "execution_count": 22,
   "metadata": {},
   "outputs": [
    {
     "data": {
      "text/plain": [
       "(array([ 978.,  118.,   55.,   22.,   33.,   19.,   12.,   11.,    4.,    3.]),\n",
       " array([ 0.00079745,  0.03724083,  0.07368421,  0.11012759,  0.14657097,\n",
       "         0.18301435,  0.21945774,  0.25590112,  0.2923445 ,  0.32878788,\n",
       "         0.36523126]),\n",
       " <a list of 10 Patch objects>)"
      ]
     },
     "execution_count": 22,
     "metadata": {},
     "output_type": "execute_result"
    },
    {
     "data": {
      "image/png": "[encoded data removed]",
      "text/plain": [
       "<matplotlib.figure.Figure at 0x151b0fa630>"
      ]
     },
     "metadata": {},
     "output_type": "display_data"
    }
   ],
   "source": [
    "# Let's do this again. It looks like it's connected now!\n",
    "nx.is_weakly_connected(G_2015)\n",
    "\n",
    "# This means you can reach any airport from another in about 3 steps\n",
    "nx.average_shortest_path_length(G_2015)\n",
    "\n",
    "plt.hist(list(nx.degree_centrality(G_2015).values()))"
   ]
  },
  {
   "cell_type": "markdown",
   "metadata": {
    "collapsed": true
   },
   "source": [
    "#### Exercise! (Actually this is a game :D)\n",
    "\n",
    "How can we decrease the avg shortest path length of this network?\n",
    "\n",
    "Think of an effective way to add new edges to decrease the avg shortest path length.\n",
    "Let's see if we can come up with a nice way to do this, and the one who gets the highest decrease wins!!!\n",
    "\n",
    "The rules are simple:\n",
    "- You can't add more than 2% of the current edges( ~500 edges)"
   ]
  },
  {
   "cell_type": "code",
   "execution_count": 26,
   "metadata": {},
   "outputs": [],
   "source": [
    "sort_degree = sorted(nx.degree_centrality(G_2015).items(), key=lambda x:x[1], reverse=True)"
   ]
  },
  {
   "cell_type": "code",
   "execution_count": 31,
   "metadata": {},
   "outputs": [],
   "source": [
    "top_count = 0\n",
    "for n, v in sort_degree:\n",
    "    count = 0\n",
    "    for node, val in sort_degree:\n",
    "        if node != n:\n",
    "            if node not in G_2015.adj[n]:\n",
    "                G_2015.add_edge(n, node)\n",
    "                count += 1\n",
    "                if count == 25:\n",
    "                    break\n",
    "    top_count += 1\n",
    "    if top_count == 20:\n",
    "        break"
   ]
  },
  {
   "cell_type": "code",
   "execution_count": 32,
   "metadata": {},
   "outputs": [
    {
     "data": {
      "text/plain": [
       "25877"
      ]
     },
     "execution_count": 32,
     "metadata": {},
     "output_type": "execute_result"
    }
   ],
   "source": [
    "G_2015.number_of_edges()"
   ]
  },
  {
   "cell_type": "code",
   "execution_count": 33,
   "metadata": {},
   "outputs": [
    {
     "data": {
      "text/plain": [
       "2.9429713363452095"
      ]
     },
     "execution_count": 33,
     "metadata": {},
     "output_type": "execute_result"
    }
   ],
   "source": [
    "nx.average_shortest_path_length(G_2015) "
   ]
  },
  {
   "cell_type": "code",
   "execution_count": 30,
   "metadata": {},
   "outputs": [
    {
     "data": {
      "text/plain": [
       "0.6991658440939188"
      ]
     },
     "execution_count": 30,
     "metadata": {},
     "output_type": "execute_result"
    }
   ],
   "source": [
    "0.021171454532745937/3.028101946281858 *100"
   ]
  },
  {
   "cell_type": "code",
   "execution_count": 23,
   "metadata": {},
   "outputs": [
    {
     "ename": "AttributeError",
     "evalue": "'DiGraph' object has no attribute 'describe'",
     "output_type": "error",
     "traceback": [
      "\u001b[0;31m---------------------------------------------------------------------------\u001b[0m",
      "\u001b[0;31mAttributeError\u001b[0m                            Traceback (most recent call last)",
      "\u001b[0;32m<ipython-input-23-eab30c812e97>\u001b[0m in \u001b[0;36m<module>\u001b[0;34m()\u001b[0m\n\u001b[0;32m----> 1\u001b[0;31m \u001b[0mG_2015\u001b[0m\u001b[0;34m.\u001b[0m\u001b[0mdescribe\u001b[0m\u001b[0;34m(\u001b[0m\u001b[0;34m)\u001b[0m\u001b[0;34m\u001b[0m\u001b[0m\n\u001b[0m",
      "\u001b[0;31mAttributeError\u001b[0m: 'DiGraph' object has no attribute 'describe'"
     ]
    }
   ],
   "source": [
    "G_2015.describe()"
   ]
  },
  {
   "cell_type": "code",
   "execution_count": null,
   "metadata": {},
   "outputs": [],
   "source": []
  }
 ],
 "metadata": {
  "kernelspec": {
   "display_name": "Python 3",
   "language": "python",
   "name": "python3"
  },
  "language_info": {
   "codemirror_mode": {
    "name": "ipython",
    "version": 3
   },
   "file_extension": ".py",
   "mimetype": "text/x-python",
   "name": "python",
   "nbconvert_exporter": "python",
   "pygments_lexer": "ipython3",
   "version": "3.6.3"
  }
 },
 "nbformat": 4,
 "nbformat_minor": 2
}
