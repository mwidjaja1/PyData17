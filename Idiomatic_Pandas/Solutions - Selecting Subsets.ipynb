{
 "cells": [
  {
   "cell_type": "markdown",
   "metadata": {},
   "source": [
    "# Solutions\n",
    "This notebook contains solutions to all the exercises from the Selecting Subsets of Data Series"
   ]
  },
  {
   "cell_type": "code",
   "execution_count": 2,
   "metadata": {
    "collapsed": true
   },
   "outputs": [],
   "source": [
    "import pandas as pd\n",
    "import numpy as np"
   ]
  },
  {
   "cell_type": "markdown",
   "metadata": {},
   "source": [
    "# Part 1: Selection with `[]`, `.loc` and `.iloc`"
   ]
  },
  {
   "cell_type": "code",
   "execution_count": 3,
   "metadata": {},
   "outputs": [
    {
     "data": {
      "text/html": [
       "<div>\n",
       "<style scoped>\n",
       "    .dataframe tbody tr th:only-of-type {\n",
       "        vertical-align: middle;\n",
       "    }\n",
       "\n",
       "    .dataframe tbody tr th {\n",
       "        vertical-align: top;\n",
       "    }\n",
       "\n",
       "    .dataframe thead th {\n",
       "        text-align: right;\n",
       "    }\n",
       "</style>\n",
       "<table border=\"1\" class=\"dataframe\">\n",
       "  <thead>\n",
       "    <tr style=\"text-align: right;\">\n",
       "      <th></th>\n",
       "      <th>DBA Name</th>\n",
       "      <th>Facility Type</th>\n",
       "      <th>Risk</th>\n",
       "      <th>Address</th>\n",
       "      <th>Zip</th>\n",
       "      <th>Inspection Date</th>\n",
       "      <th>Inspection Type</th>\n",
       "      <th>Results</th>\n",
       "      <th>Violations</th>\n",
       "    </tr>\n",
       "  </thead>\n",
       "  <tbody>\n",
       "    <tr>\n",
       "      <th>0</th>\n",
       "      <td>DANY'S TACOS</td>\n",
       "      <td>Restaurant</td>\n",
       "      <td>Risk 1 (High)</td>\n",
       "      <td>2857 S ST LOUIS AVE</td>\n",
       "      <td>60623.0</td>\n",
       "      <td>03/27/2017</td>\n",
       "      <td>License</td>\n",
       "      <td>Fail</td>\n",
       "      <td>16. FOOD PROTECTED DURING STORAGE, PREPARATION...</td>\n",
       "    </tr>\n",
       "    <tr>\n",
       "      <th>1</th>\n",
       "      <td>BILLY FOOD MARKET INC</td>\n",
       "      <td>NaN</td>\n",
       "      <td>Risk 3 (Low)</td>\n",
       "      <td>3906 W ROOSEVELT RD</td>\n",
       "      <td>60624.0</td>\n",
       "      <td>03/27/2017</td>\n",
       "      <td>License</td>\n",
       "      <td>Not Ready</td>\n",
       "      <td>NaN</td>\n",
       "    </tr>\n",
       "    <tr>\n",
       "      <th>2</th>\n",
       "      <td>TAQUERIA HACIENDA TAPATIA</td>\n",
       "      <td>Restaurant</td>\n",
       "      <td>Risk 1 (High)</td>\n",
       "      <td>4125 W 26TH ST</td>\n",
       "      <td>60623.0</td>\n",
       "      <td>03/27/2017</td>\n",
       "      <td>License Re-Inspection</td>\n",
       "      <td>Pass</td>\n",
       "      <td>2. FACILITIES TO MAINTAIN PROPER TEMPERATURE -...</td>\n",
       "    </tr>\n",
       "    <tr>\n",
       "      <th>3</th>\n",
       "      <td>WILD GOOSE BAR &amp; GRILL</td>\n",
       "      <td>Restaurant</td>\n",
       "      <td>Risk 1 (High)</td>\n",
       "      <td>4265 N LINCOLN AVE</td>\n",
       "      <td>60618.0</td>\n",
       "      <td>03/27/2017</td>\n",
       "      <td>Canvass</td>\n",
       "      <td>Fail</td>\n",
       "      <td>16. FOOD PROTECTED DURING STORAGE, PREPARATION...</td>\n",
       "    </tr>\n",
       "    <tr>\n",
       "      <th>4</th>\n",
       "      <td>PUBLICAN TAVERN K1</td>\n",
       "      <td>Restaurant</td>\n",
       "      <td>Risk 1 (High)</td>\n",
       "      <td>11601 W TOUHY AVE</td>\n",
       "      <td>60666.0</td>\n",
       "      <td>03/27/2017</td>\n",
       "      <td>Canvass</td>\n",
       "      <td>Fail</td>\n",
       "      <td>18. NO EVIDENCE OF RODENT OR INSECT OUTER OPEN...</td>\n",
       "    </tr>\n",
       "  </tbody>\n",
       "</table>\n",
       "</div>"
      ],
      "text/plain": [
       "                    DBA Name Facility Type           Risk  \\\n",
       "0               DANY'S TACOS    Restaurant  Risk 1 (High)   \n",
       "1      BILLY FOOD MARKET INC           NaN   Risk 3 (Low)   \n",
       "2  TAQUERIA HACIENDA TAPATIA    Restaurant  Risk 1 (High)   \n",
       "3     WILD GOOSE BAR & GRILL    Restaurant  Risk 1 (High)   \n",
       "4         PUBLICAN TAVERN K1    Restaurant  Risk 1 (High)   \n",
       "\n",
       "                Address      Zip Inspection Date        Inspection Type  \\\n",
       "0  2857 S ST LOUIS AVE   60623.0      03/27/2017                License   \n",
       "1  3906 W ROOSEVELT RD   60624.0      03/27/2017                License   \n",
       "2       4125 W 26TH ST   60623.0      03/27/2017  License Re-Inspection   \n",
       "3   4265 N LINCOLN AVE   60618.0      03/27/2017                Canvass   \n",
       "4    11601 W TOUHY AVE   60666.0      03/27/2017                Canvass   \n",
       "\n",
       "     Results                                         Violations  \n",
       "0       Fail  16. FOOD PROTECTED DURING STORAGE, PREPARATION...  \n",
       "1  Not Ready                                                NaN  \n",
       "2       Pass  2. FACILITIES TO MAINTAIN PROPER TEMPERATURE -...  \n",
       "3       Fail  16. FOOD PROTECTED DURING STORAGE, PREPARATION...  \n",
       "4       Fail  18. NO EVIDENCE OF RODENT OR INSECT OUTER OPEN...  "
      ]
     },
     "execution_count": 3,
     "metadata": {},
     "output_type": "execute_result"
    }
   ],
   "source": [
    "df = pd.read_csv('data/food_inspections.csv')\n",
    "df.head()"
   ]
  },
  {
   "cell_type": "markdown",
   "metadata": {},
   "source": [
    "### Exercise 1\n",
    "<span  style=\"color:green; font-size:16px\">The current DataFrame has a simple `RangeIndex`. Let make the **`DBA Name`** column the index to make it more meaningful. Save the result to variable **`df`**.</span>"
   ]
  },
  {
   "cell_type": "code",
   "execution_count": 4,
   "metadata": {},
   "outputs": [
    {
     "data": {
      "text/html": [
       "<div>\n",
       "<style scoped>\n",
       "    .dataframe tbody tr th:only-of-type {\n",
       "        vertical-align: middle;\n",
       "    }\n",
       "\n",
       "    .dataframe tbody tr th {\n",
       "        vertical-align: top;\n",
       "    }\n",
       "\n",
       "    .dataframe thead th {\n",
       "        text-align: right;\n",
       "    }\n",
       "</style>\n",
       "<table border=\"1\" class=\"dataframe\">\n",
       "  <thead>\n",
       "    <tr style=\"text-align: right;\">\n",
       "      <th></th>\n",
       "      <th>Facility Type</th>\n",
       "      <th>Risk</th>\n",
       "      <th>Address</th>\n",
       "      <th>Zip</th>\n",
       "      <th>Inspection Date</th>\n",
       "      <th>Inspection Type</th>\n",
       "      <th>Results</th>\n",
       "      <th>Violations</th>\n",
       "    </tr>\n",
       "    <tr>\n",
       "      <th>DBA Name</th>\n",
       "      <th></th>\n",
       "      <th></th>\n",
       "      <th></th>\n",
       "      <th></th>\n",
       "      <th></th>\n",
       "      <th></th>\n",
       "      <th></th>\n",
       "      <th></th>\n",
       "    </tr>\n",
       "  </thead>\n",
       "  <tbody>\n",
       "    <tr>\n",
       "      <th>DANY'S TACOS</th>\n",
       "      <td>Restaurant</td>\n",
       "      <td>Risk 1 (High)</td>\n",
       "      <td>2857 S ST LOUIS AVE</td>\n",
       "      <td>60623.0</td>\n",
       "      <td>03/27/2017</td>\n",
       "      <td>License</td>\n",
       "      <td>Fail</td>\n",
       "      <td>16. FOOD PROTECTED DURING STORAGE, PREPARATION...</td>\n",
       "    </tr>\n",
       "    <tr>\n",
       "      <th>BILLY FOOD MARKET INC</th>\n",
       "      <td>NaN</td>\n",
       "      <td>Risk 3 (Low)</td>\n",
       "      <td>3906 W ROOSEVELT RD</td>\n",
       "      <td>60624.0</td>\n",
       "      <td>03/27/2017</td>\n",
       "      <td>License</td>\n",
       "      <td>Not Ready</td>\n",
       "      <td>NaN</td>\n",
       "    </tr>\n",
       "    <tr>\n",
       "      <th>TAQUERIA HACIENDA TAPATIA</th>\n",
       "      <td>Restaurant</td>\n",
       "      <td>Risk 1 (High)</td>\n",
       "      <td>4125 W 26TH ST</td>\n",
       "      <td>60623.0</td>\n",
       "      <td>03/27/2017</td>\n",
       "      <td>License Re-Inspection</td>\n",
       "      <td>Pass</td>\n",
       "      <td>2. FACILITIES TO MAINTAIN PROPER TEMPERATURE -...</td>\n",
       "    </tr>\n",
       "    <tr>\n",
       "      <th>WILD GOOSE BAR &amp; GRILL</th>\n",
       "      <td>Restaurant</td>\n",
       "      <td>Risk 1 (High)</td>\n",
       "      <td>4265 N LINCOLN AVE</td>\n",
       "      <td>60618.0</td>\n",
       "      <td>03/27/2017</td>\n",
       "      <td>Canvass</td>\n",
       "      <td>Fail</td>\n",
       "      <td>16. FOOD PROTECTED DURING STORAGE, PREPARATION...</td>\n",
       "    </tr>\n",
       "    <tr>\n",
       "      <th>PUBLICAN TAVERN K1</th>\n",
       "      <td>Restaurant</td>\n",
       "      <td>Risk 1 (High)</td>\n",
       "      <td>11601 W TOUHY AVE</td>\n",
       "      <td>60666.0</td>\n",
       "      <td>03/27/2017</td>\n",
       "      <td>Canvass</td>\n",
       "      <td>Fail</td>\n",
       "      <td>18. NO EVIDENCE OF RODENT OR INSECT OUTER OPEN...</td>\n",
       "    </tr>\n",
       "  </tbody>\n",
       "</table>\n",
       "</div>"
      ],
      "text/plain": [
       "                          Facility Type           Risk               Address  \\\n",
       "DBA Name                                                                       \n",
       "DANY'S TACOS                 Restaurant  Risk 1 (High)  2857 S ST LOUIS AVE    \n",
       "BILLY FOOD MARKET INC               NaN   Risk 3 (Low)  3906 W ROOSEVELT RD    \n",
       "TAQUERIA HACIENDA TAPATIA    Restaurant  Risk 1 (High)       4125 W 26TH ST    \n",
       "WILD GOOSE BAR & GRILL       Restaurant  Risk 1 (High)   4265 N LINCOLN AVE    \n",
       "PUBLICAN TAVERN K1           Restaurant  Risk 1 (High)    11601 W TOUHY AVE    \n",
       "\n",
       "                               Zip Inspection Date        Inspection Type  \\\n",
       "DBA Name                                                                    \n",
       "DANY'S TACOS               60623.0      03/27/2017                License   \n",
       "BILLY FOOD MARKET INC      60624.0      03/27/2017                License   \n",
       "TAQUERIA HACIENDA TAPATIA  60623.0      03/27/2017  License Re-Inspection   \n",
       "WILD GOOSE BAR & GRILL     60618.0      03/27/2017                Canvass   \n",
       "PUBLICAN TAVERN K1         60666.0      03/27/2017                Canvass   \n",
       "\n",
       "                             Results  \\\n",
       "DBA Name                               \n",
       "DANY'S TACOS                    Fail   \n",
       "BILLY FOOD MARKET INC      Not Ready   \n",
       "TAQUERIA HACIENDA TAPATIA       Pass   \n",
       "WILD GOOSE BAR & GRILL          Fail   \n",
       "PUBLICAN TAVERN K1              Fail   \n",
       "\n",
       "                                                                  Violations  \n",
       "DBA Name                                                                      \n",
       "DANY'S TACOS               16. FOOD PROTECTED DURING STORAGE, PREPARATION...  \n",
       "BILLY FOOD MARKET INC                                                    NaN  \n",
       "TAQUERIA HACIENDA TAPATIA  2. FACILITIES TO MAINTAIN PROPER TEMPERATURE -...  \n",
       "WILD GOOSE BAR & GRILL     16. FOOD PROTECTED DURING STORAGE, PREPARATION...  \n",
       "PUBLICAN TAVERN K1         18. NO EVIDENCE OF RODENT OR INSECT OUTER OPEN...  "
      ]
     },
     "execution_count": 4,
     "metadata": {},
     "output_type": "execute_result"
    }
   ],
   "source": [
    "df = df.set_index('DBA Name')\n",
    "df.head()"
   ]
  },
  {
   "cell_type": "markdown",
   "metadata": {},
   "source": [
    "### Exercise 2\n",
    "<span  style=\"color:green; font-size:16px\">Select the **`Risk`** column as a Series with just the indexing operator. Also select it with attribute access.</span>"
   ]
  },
  {
   "cell_type": "code",
   "execution_count": 6,
   "metadata": {},
   "outputs": [
    {
     "data": {
      "text/plain": [
       "DBA Name\n",
       "DANY'S TACOS                 Risk 1 (High)\n",
       "BILLY FOOD MARKET INC         Risk 3 (Low)\n",
       "TAQUERIA HACIENDA TAPATIA    Risk 1 (High)\n",
       "WILD GOOSE BAR & GRILL       Risk 1 (High)\n",
       "PUBLICAN TAVERN K1           Risk 1 (High)\n",
       "Name: Risk, dtype: object"
      ]
     },
     "execution_count": 6,
     "metadata": {},
     "output_type": "execute_result"
    }
   ],
   "source": [
    "df['Risk'].head()"
   ]
  },
  {
   "cell_type": "code",
   "execution_count": 8,
   "metadata": {},
   "outputs": [
    {
     "data": {
      "text/plain": [
       "DBA Name\n",
       "DANY'S TACOS                 Risk 1 (High)\n",
       "BILLY FOOD MARKET INC         Risk 3 (Low)\n",
       "TAQUERIA HACIENDA TAPATIA    Risk 1 (High)\n",
       "WILD GOOSE BAR & GRILL       Risk 1 (High)\n",
       "PUBLICAN TAVERN K1           Risk 1 (High)\n",
       "Name: Risk, dtype: object"
      ]
     },
     "execution_count": 8,
     "metadata": {},
     "output_type": "execute_result"
    }
   ],
   "source": [
    "df.Risk.head()"
   ]
  },
  {
   "cell_type": "markdown",
   "metadata": {},
   "source": [
    "### Exercise 3\n",
    "<span  style=\"color:green; font-size:16px\">Select the **`Risk`** and **`Results`** columns</span>"
   ]
  },
  {
   "cell_type": "code",
   "execution_count": 9,
   "metadata": {},
   "outputs": [
    {
     "data": {
      "text/html": [
       "<div>\n",
       "<style scoped>\n",
       "    .dataframe tbody tr th:only-of-type {\n",
       "        vertical-align: middle;\n",
       "    }\n",
       "\n",
       "    .dataframe tbody tr th {\n",
       "        vertical-align: top;\n",
       "    }\n",
       "\n",
       "    .dataframe thead th {\n",
       "        text-align: right;\n",
       "    }\n",
       "</style>\n",
       "<table border=\"1\" class=\"dataframe\">\n",
       "  <thead>\n",
       "    <tr style=\"text-align: right;\">\n",
       "      <th></th>\n",
       "      <th>Risk</th>\n",
       "      <th>Results</th>\n",
       "    </tr>\n",
       "    <tr>\n",
       "      <th>DBA Name</th>\n",
       "      <th></th>\n",
       "      <th></th>\n",
       "    </tr>\n",
       "  </thead>\n",
       "  <tbody>\n",
       "    <tr>\n",
       "      <th>DANY'S TACOS</th>\n",
       "      <td>Risk 1 (High)</td>\n",
       "      <td>Fail</td>\n",
       "    </tr>\n",
       "    <tr>\n",
       "      <th>BILLY FOOD MARKET INC</th>\n",
       "      <td>Risk 3 (Low)</td>\n",
       "      <td>Not Ready</td>\n",
       "    </tr>\n",
       "    <tr>\n",
       "      <th>TAQUERIA HACIENDA TAPATIA</th>\n",
       "      <td>Risk 1 (High)</td>\n",
       "      <td>Pass</td>\n",
       "    </tr>\n",
       "    <tr>\n",
       "      <th>WILD GOOSE BAR &amp; GRILL</th>\n",
       "      <td>Risk 1 (High)</td>\n",
       "      <td>Fail</td>\n",
       "    </tr>\n",
       "    <tr>\n",
       "      <th>PUBLICAN TAVERN K1</th>\n",
       "      <td>Risk 1 (High)</td>\n",
       "      <td>Fail</td>\n",
       "    </tr>\n",
       "  </tbody>\n",
       "</table>\n",
       "</div>"
      ],
      "text/plain": [
       "                                    Risk    Results\n",
       "DBA Name                                           \n",
       "DANY'S TACOS               Risk 1 (High)       Fail\n",
       "BILLY FOOD MARKET INC       Risk 3 (Low)  Not Ready\n",
       "TAQUERIA HACIENDA TAPATIA  Risk 1 (High)       Pass\n",
       "WILD GOOSE BAR & GRILL     Risk 1 (High)       Fail\n",
       "PUBLICAN TAVERN K1         Risk 1 (High)       Fail"
      ]
     },
     "execution_count": 9,
     "metadata": {},
     "output_type": "execute_result"
    }
   ],
   "source": [
    "df[['Risk', 'Results']].head()"
   ]
  },
  {
   "cell_type": "markdown",
   "metadata": {},
   "source": [
    "### Exercise 4\n",
    "<span  style=\"color:green; font-size:16px\">Select a single column as a DataFrame</span>"
   ]
  },
  {
   "cell_type": "code",
   "execution_count": 10,
   "metadata": {},
   "outputs": [
    {
     "data": {
      "text/html": [
       "<div>\n",
       "<style scoped>\n",
       "    .dataframe tbody tr th:only-of-type {\n",
       "        vertical-align: middle;\n",
       "    }\n",
       "\n",
       "    .dataframe tbody tr th {\n",
       "        vertical-align: top;\n",
       "    }\n",
       "\n",
       "    .dataframe thead th {\n",
       "        text-align: right;\n",
       "    }\n",
       "</style>\n",
       "<table border=\"1\" class=\"dataframe\">\n",
       "  <thead>\n",
       "    <tr style=\"text-align: right;\">\n",
       "      <th></th>\n",
       "      <th>Zip</th>\n",
       "    </tr>\n",
       "    <tr>\n",
       "      <th>DBA Name</th>\n",
       "      <th></th>\n",
       "    </tr>\n",
       "  </thead>\n",
       "  <tbody>\n",
       "    <tr>\n",
       "      <th>DANY'S TACOS</th>\n",
       "      <td>60623.0</td>\n",
       "    </tr>\n",
       "    <tr>\n",
       "      <th>BILLY FOOD MARKET INC</th>\n",
       "      <td>60624.0</td>\n",
       "    </tr>\n",
       "    <tr>\n",
       "      <th>TAQUERIA HACIENDA TAPATIA</th>\n",
       "      <td>60623.0</td>\n",
       "    </tr>\n",
       "    <tr>\n",
       "      <th>WILD GOOSE BAR &amp; GRILL</th>\n",
       "      <td>60618.0</td>\n",
       "    </tr>\n",
       "    <tr>\n",
       "      <th>PUBLICAN TAVERN K1</th>\n",
       "      <td>60666.0</td>\n",
       "    </tr>\n",
       "  </tbody>\n",
       "</table>\n",
       "</div>"
      ],
      "text/plain": [
       "                               Zip\n",
       "DBA Name                          \n",
       "DANY'S TACOS               60623.0\n",
       "BILLY FOOD MARKET INC      60624.0\n",
       "TAQUERIA HACIENDA TAPATIA  60623.0\n",
       "WILD GOOSE BAR & GRILL     60618.0\n",
       "PUBLICAN TAVERN K1         60666.0"
      ]
     },
     "execution_count": 10,
     "metadata": {},
     "output_type": "execute_result"
    }
   ],
   "source": [
    "df[['Zip']].head()"
   ]
  },
  {
   "cell_type": "markdown",
   "metadata": {},
   "source": [
    "### Exercise 5\n",
    "<span  style=\"color:green; font-size:16px\">Select the row for the restaurant **`WILD GOOSE BAR & GRILL`**. What object is returned?</span>"
   ]
  },
  {
   "cell_type": "code",
   "execution_count": 11,
   "metadata": {},
   "outputs": [
    {
     "data": {
      "text/plain": [
       "Facility Type                                             Restaurant\n",
       "Risk                                                   Risk 1 (High)\n",
       "Address                                          4265 N LINCOLN AVE \n",
       "Zip                                                            60618\n",
       "Inspection Date                                           03/27/2017\n",
       "Inspection Type                                              Canvass\n",
       "Results                                                         Fail\n",
       "Violations         16. FOOD PROTECTED DURING STORAGE, PREPARATION...\n",
       "Name: WILD GOOSE BAR & GRILL, dtype: object"
      ]
     },
     "execution_count": 11,
     "metadata": {},
     "output_type": "execute_result"
    }
   ],
   "source": [
    "df.loc['WILD GOOSE BAR & GRILL'] # returns a Series"
   ]
  },
  {
   "cell_type": "markdown",
   "metadata": {},
   "source": [
    "### Exercise 6\n",
    "<span  style=\"color:green; font-size:16px\">Select the rows for the restaurants **`WILD GOOSE BAR & GRILL`** and **`TAQUERIA HACIENDA TAPATIA`** along with columns **`Risk`** and **`Results`**.</span>"
   ]
  },
  {
   "cell_type": "code",
   "execution_count": 13,
   "metadata": {},
   "outputs": [
    {
     "data": {
      "text/html": [
       "<div>\n",
       "<style scoped>\n",
       "    .dataframe tbody tr th:only-of-type {\n",
       "        vertical-align: middle;\n",
       "    }\n",
       "\n",
       "    .dataframe tbody tr th {\n",
       "        vertical-align: top;\n",
       "    }\n",
       "\n",
       "    .dataframe thead th {\n",
       "        text-align: right;\n",
       "    }\n",
       "</style>\n",
       "<table border=\"1\" class=\"dataframe\">\n",
       "  <thead>\n",
       "    <tr style=\"text-align: right;\">\n",
       "      <th></th>\n",
       "      <th>Risk</th>\n",
       "      <th>Results</th>\n",
       "    </tr>\n",
       "    <tr>\n",
       "      <th>DBA Name</th>\n",
       "      <th></th>\n",
       "      <th></th>\n",
       "    </tr>\n",
       "  </thead>\n",
       "  <tbody>\n",
       "    <tr>\n",
       "      <th>WILD GOOSE BAR &amp; GRILL</th>\n",
       "      <td>Risk 1 (High)</td>\n",
       "      <td>Fail</td>\n",
       "    </tr>\n",
       "    <tr>\n",
       "      <th>TAQUERIA HACIENDA TAPATIA</th>\n",
       "      <td>Risk 1 (High)</td>\n",
       "      <td>Pass</td>\n",
       "    </tr>\n",
       "  </tbody>\n",
       "</table>\n",
       "</div>"
      ],
      "text/plain": [
       "                                    Risk Results\n",
       "DBA Name                                        \n",
       "WILD GOOSE BAR & GRILL     Risk 1 (High)    Fail\n",
       "TAQUERIA HACIENDA TAPATIA  Risk 1 (High)    Pass"
      ]
     },
     "execution_count": 13,
     "metadata": {},
     "output_type": "execute_result"
    }
   ],
   "source": [
    "df.loc[['WILD GOOSE BAR & GRILL', 'TAQUERIA HACIENDA TAPATIA'], ['Risk', 'Results']]"
   ]
  },
  {
   "cell_type": "markdown",
   "metadata": {},
   "source": [
    "### Exercise 7\n",
    "<span  style=\"color:green; font-size:16px\">What is the risk of restaurant **`SCRUB A DUB`**?</span>"
   ]
  },
  {
   "cell_type": "code",
   "execution_count": 16,
   "metadata": {},
   "outputs": [
    {
     "data": {
      "text/plain": [
       "'Risk 2 (Medium)'"
      ]
     },
     "execution_count": 16,
     "metadata": {},
     "output_type": "execute_result"
    }
   ],
   "source": [
    "df.loc['SCRUB A DUB', 'Risk']"
   ]
  },
  {
   "cell_type": "markdown",
   "metadata": {},
   "source": [
    "### Exercise 8\n",
    "<span  style=\"color:green; font-size:16px\">Select every 3,000th restaurant from **`THRESHOLD SCHOOL`** to **`SCRUB A DUB`** and the columns from **`Inspection Type`** on to the end of the DataFrame.</span>"
   ]
  },
  {
   "cell_type": "code",
   "execution_count": 20,
   "metadata": {},
   "outputs": [
    {
     "data": {
      "text/html": [
       "<div>\n",
       "<style scoped>\n",
       "    .dataframe tbody tr th:only-of-type {\n",
       "        vertical-align: middle;\n",
       "    }\n",
       "\n",
       "    .dataframe tbody tr th {\n",
       "        vertical-align: top;\n",
       "    }\n",
       "\n",
       "    .dataframe thead th {\n",
       "        text-align: right;\n",
       "    }\n",
       "</style>\n",
       "<table border=\"1\" class=\"dataframe\">\n",
       "  <thead>\n",
       "    <tr style=\"text-align: right;\">\n",
       "      <th></th>\n",
       "      <th>Inspection Type</th>\n",
       "      <th>Results</th>\n",
       "      <th>Violations</th>\n",
       "    </tr>\n",
       "    <tr>\n",
       "      <th>DBA Name</th>\n",
       "      <th></th>\n",
       "      <th></th>\n",
       "      <th></th>\n",
       "    </tr>\n",
       "  </thead>\n",
       "  <tbody>\n",
       "    <tr>\n",
       "      <th>THRESHOLD SCHOOL</th>\n",
       "      <td>Canvass</td>\n",
       "      <td>Pass</td>\n",
       "      <td>38. VENTILATION: ROOMS AND EQUIPMENT VENTED AS...</td>\n",
       "    </tr>\n",
       "    <tr>\n",
       "      <th>SAN JOSE FAST FOOD</th>\n",
       "      <td>Canvass</td>\n",
       "      <td>Out of Business</td>\n",
       "      <td>NaN</td>\n",
       "    </tr>\n",
       "    <tr>\n",
       "      <th>CHUCHOS ON ADDISON INC</th>\n",
       "      <td>Canvass</td>\n",
       "      <td>Pass w/ Conditions</td>\n",
       "      <td>33. FOOD AND NON-FOOD CONTACT EQUIPMENT UTENSI...</td>\n",
       "    </tr>\n",
       "    <tr>\n",
       "      <th>PIZZERIA AROMA</th>\n",
       "      <td>Canvass Re-Inspection</td>\n",
       "      <td>Pass</td>\n",
       "      <td>2. FACILITIES TO MAINTAIN PROPER TEMPERATURE -...</td>\n",
       "    </tr>\n",
       "    <tr>\n",
       "      <th>JEWEL FOOD STORE #3210</th>\n",
       "      <td>Canvass</td>\n",
       "      <td>No Entry</td>\n",
       "      <td>NaN</td>\n",
       "    </tr>\n",
       "    <tr>\n",
       "      <th>EGANS TAVERN</th>\n",
       "      <td>Canvass</td>\n",
       "      <td>Out of Business</td>\n",
       "      <td>NaN</td>\n",
       "    </tr>\n",
       "    <tr>\n",
       "      <th>Los Amigos Grill</th>\n",
       "      <td>Canvass</td>\n",
       "      <td>Out of Business</td>\n",
       "      <td>NaN</td>\n",
       "    </tr>\n",
       "    <tr>\n",
       "      <th>JOHNNY VAN'S SMOKEHOUSE</th>\n",
       "      <td>License</td>\n",
       "      <td>Pass</td>\n",
       "      <td>NaN</td>\n",
       "    </tr>\n",
       "    <tr>\n",
       "      <th>WEN   CAFE INC</th>\n",
       "      <td>Out of Business</td>\n",
       "      <td>Fail</td>\n",
       "      <td>NaN</td>\n",
       "    </tr>\n",
       "  </tbody>\n",
       "</table>\n",
       "</div>"
      ],
      "text/plain": [
       "                               Inspection Type             Results  \\\n",
       "DBA Name                                                             \n",
       "THRESHOLD SCHOOL                       Canvass                Pass   \n",
       "SAN JOSE FAST FOOD                     Canvass     Out of Business   \n",
       "CHUCHOS ON ADDISON INC                 Canvass  Pass w/ Conditions   \n",
       "PIZZERIA AROMA           Canvass Re-Inspection                Pass   \n",
       "JEWEL FOOD STORE #3210                 Canvass            No Entry   \n",
       "EGANS TAVERN                           Canvass     Out of Business   \n",
       "Los Amigos Grill                       Canvass     Out of Business   \n",
       "JOHNNY VAN'S SMOKEHOUSE                License                Pass   \n",
       "WEN   CAFE INC                 Out of Business                Fail   \n",
       "\n",
       "                                                                Violations  \n",
       "DBA Name                                                                    \n",
       "THRESHOLD SCHOOL         38. VENTILATION: ROOMS AND EQUIPMENT VENTED AS...  \n",
       "SAN JOSE FAST FOOD                                                     NaN  \n",
       "CHUCHOS ON ADDISON INC   33. FOOD AND NON-FOOD CONTACT EQUIPMENT UTENSI...  \n",
       "PIZZERIA AROMA           2. FACILITIES TO MAINTAIN PROPER TEMPERATURE -...  \n",
       "JEWEL FOOD STORE #3210                                                 NaN  \n",
       "EGANS TAVERN                                                           NaN  \n",
       "Los Amigos Grill                                                       NaN  \n",
       "JOHNNY VAN'S SMOKEHOUSE                                                NaN  \n",
       "WEN   CAFE INC                                                         NaN  "
      ]
     },
     "execution_count": 20,
     "metadata": {},
     "output_type": "execute_result"
    }
   ],
   "source": [
    "df.loc['THRESHOLD SCHOOL':'SCRUB A DUB':3000, 'Inspection Type':]"
   ]
  },
  {
   "cell_type": "markdown",
   "metadata": {},
   "source": [
    "### Exercise 9\n",
    "<span  style=\"color:green; font-size:16px\">Select all columns from the 500th restaurant to the 510th</span>"
   ]
  },
  {
   "cell_type": "code",
   "execution_count": 21,
   "metadata": {
    "scrolled": false
   },
   "outputs": [
    {
     "data": {
      "text/html": [
       "<div>\n",
       "<style scoped>\n",
       "    .dataframe tbody tr th:only-of-type {\n",
       "        vertical-align: middle;\n",
       "    }\n",
       "\n",
       "    .dataframe tbody tr th {\n",
       "        vertical-align: top;\n",
       "    }\n",
       "\n",
       "    .dataframe thead th {\n",
       "        text-align: right;\n",
       "    }\n",
       "</style>\n",
       "<table border=\"1\" class=\"dataframe\">\n",
       "  <thead>\n",
       "    <tr style=\"text-align: right;\">\n",
       "      <th></th>\n",
       "      <th>Facility Type</th>\n",
       "      <th>Risk</th>\n",
       "      <th>Address</th>\n",
       "      <th>Zip</th>\n",
       "      <th>Inspection Date</th>\n",
       "      <th>Inspection Type</th>\n",
       "      <th>Results</th>\n",
       "      <th>Violations</th>\n",
       "    </tr>\n",
       "    <tr>\n",
       "      <th>DBA Name</th>\n",
       "      <th></th>\n",
       "      <th></th>\n",
       "      <th></th>\n",
       "      <th></th>\n",
       "      <th></th>\n",
       "      <th></th>\n",
       "      <th></th>\n",
       "      <th></th>\n",
       "    </tr>\n",
       "  </thead>\n",
       "  <tbody>\n",
       "    <tr>\n",
       "      <th>THE MECCA RESTAURANT</th>\n",
       "      <td>Restaurant</td>\n",
       "      <td>Risk 1 (High)</td>\n",
       "      <td>6666 N NORTHWEST HWY</td>\n",
       "      <td>60631.0</td>\n",
       "      <td>03/14/2017</td>\n",
       "      <td>Canvass</td>\n",
       "      <td>Pass w/ Conditions</td>\n",
       "      <td>8. SANITIZING RINSE FOR EQUIPMENT AND UTENSILS...</td>\n",
       "    </tr>\n",
       "    <tr>\n",
       "      <th>L &amp; T CHINA FAST WOK INC.</th>\n",
       "      <td>Restaurant</td>\n",
       "      <td>Risk 1 (High)</td>\n",
       "      <td>2020 N CALIFORNIA AVE</td>\n",
       "      <td>60647.0</td>\n",
       "      <td>03/14/2017</td>\n",
       "      <td>Canvass</td>\n",
       "      <td>Pass</td>\n",
       "      <td>33. FOOD AND NON-FOOD CONTACT EQUIPMENT UTENSI...</td>\n",
       "    </tr>\n",
       "    <tr>\n",
       "      <th>SCHNEIDER  SENIOR  APARTMENT</th>\n",
       "      <td>Golden Diner</td>\n",
       "      <td>Risk 1 (High)</td>\n",
       "      <td>1750 W PETERSON AVE</td>\n",
       "      <td>60660.0</td>\n",
       "      <td>03/14/2017</td>\n",
       "      <td>Canvass Re-Inspection</td>\n",
       "      <td>Pass</td>\n",
       "      <td>35. WALLS, CEILINGS, ATTACHED EQUIPMENT CONSTR...</td>\n",
       "    </tr>\n",
       "    <tr>\n",
       "      <th>ECKHARDT CAFE</th>\n",
       "      <td>Restaurant</td>\n",
       "      <td>Risk 1 (High)</td>\n",
       "      <td>5640 S ELLIS AVE</td>\n",
       "      <td>60637.0</td>\n",
       "      <td>03/14/2017</td>\n",
       "      <td>Canvass</td>\n",
       "      <td>Pass</td>\n",
       "      <td>33. FOOD AND NON-FOOD CONTACT EQUIPMENT UTENSI...</td>\n",
       "    </tr>\n",
       "    <tr>\n",
       "      <th>WING ZONE</th>\n",
       "      <td>Restaurant</td>\n",
       "      <td>Risk 1 (High)</td>\n",
       "      <td>1757 W 87TH ST</td>\n",
       "      <td>60620.0</td>\n",
       "      <td>03/14/2017</td>\n",
       "      <td>Canvass</td>\n",
       "      <td>Out of Business</td>\n",
       "      <td>NaN</td>\n",
       "    </tr>\n",
       "    <tr>\n",
       "      <th>ARBYS</th>\n",
       "      <td>Restaurant</td>\n",
       "      <td>Risk 1 (High)</td>\n",
       "      <td>500 W MADISON ST</td>\n",
       "      <td>60661.0</td>\n",
       "      <td>03/14/2017</td>\n",
       "      <td>Canvass</td>\n",
       "      <td>Pass</td>\n",
       "      <td>34. FLOORS: CONSTRUCTED PER CODE, CLEANED, GOO...</td>\n",
       "    </tr>\n",
       "    <tr>\n",
       "      <th>LAS ISLAS MARIAS</th>\n",
       "      <td>Restaurant</td>\n",
       "      <td>Risk 1 (High)</td>\n",
       "      <td>8205-8209 S PULASKI RD</td>\n",
       "      <td>60652.0</td>\n",
       "      <td>03/14/2017</td>\n",
       "      <td>Canvass</td>\n",
       "      <td>Pass</td>\n",
       "      <td>30. FOOD IN ORIGINAL CONTAINER, PROPERLY LABEL...</td>\n",
       "    </tr>\n",
       "    <tr>\n",
       "      <th>MARGARET'S</th>\n",
       "      <td>Restaurant</td>\n",
       "      <td>Risk 1 (High)</td>\n",
       "      <td>5134 W IRVING PARK RD</td>\n",
       "      <td>60641.0</td>\n",
       "      <td>03/14/2017</td>\n",
       "      <td>Canvass</td>\n",
       "      <td>Pass</td>\n",
       "      <td>33. FOOD AND NON-FOOD CONTACT EQUIPMENT UTENSI...</td>\n",
       "    </tr>\n",
       "    <tr>\n",
       "      <th>POPEYES FAMOUS FRIED CHICKEN</th>\n",
       "      <td>Restaurant</td>\n",
       "      <td>Risk 2 (Medium)</td>\n",
       "      <td>9516 S VINCENNES AVE</td>\n",
       "      <td>60643.0</td>\n",
       "      <td>03/14/2017</td>\n",
       "      <td>Complaint</td>\n",
       "      <td>Pass w/ Conditions</td>\n",
       "      <td>3. POTENTIALLY HAZARDOUS FOOD MEETS TEMPERATUR...</td>\n",
       "    </tr>\n",
       "    <tr>\n",
       "      <th>PJ PIZZA COMPANY 1 DBA PAPA JOHNS</th>\n",
       "      <td>Restaurant</td>\n",
       "      <td>Risk 2 (Medium)</td>\n",
       "      <td>1755 W 87TH ST</td>\n",
       "      <td>60620.0</td>\n",
       "      <td>03/14/2017</td>\n",
       "      <td>Canvass</td>\n",
       "      <td>Out of Business</td>\n",
       "      <td>NaN</td>\n",
       "    </tr>\n",
       "  </tbody>\n",
       "</table>\n",
       "</div>"
      ],
      "text/plain": [
       "                                  Facility Type             Risk  \\\n",
       "DBA Name                                                           \n",
       "THE MECCA RESTAURANT                 Restaurant    Risk 1 (High)   \n",
       "L & T CHINA FAST WOK INC.            Restaurant    Risk 1 (High)   \n",
       "SCHNEIDER  SENIOR  APARTMENT       Golden Diner    Risk 1 (High)   \n",
       "ECKHARDT CAFE                        Restaurant    Risk 1 (High)   \n",
       "WING ZONE                            Restaurant    Risk 1 (High)   \n",
       "ARBYS                                Restaurant    Risk 1 (High)   \n",
       "LAS ISLAS MARIAS                     Restaurant    Risk 1 (High)   \n",
       "MARGARET'S                           Restaurant    Risk 1 (High)   \n",
       "POPEYES FAMOUS FRIED CHICKEN         Restaurant  Risk 2 (Medium)   \n",
       "PJ PIZZA COMPANY 1 DBA PAPA JOHNS    Restaurant  Risk 2 (Medium)   \n",
       "\n",
       "                                                   Address      Zip  \\\n",
       "DBA Name                                                              \n",
       "THE MECCA RESTAURANT                 6666 N NORTHWEST HWY   60631.0   \n",
       "L & T CHINA FAST WOK INC.           2020 N CALIFORNIA AVE   60647.0   \n",
       "SCHNEIDER  SENIOR  APARTMENT          1750 W PETERSON AVE   60660.0   \n",
       "ECKHARDT CAFE                            5640 S ELLIS AVE   60637.0   \n",
       "WING ZONE                                  1757 W 87TH ST   60620.0   \n",
       "ARBYS                                    500 W MADISON ST   60661.0   \n",
       "LAS ISLAS MARIAS                   8205-8209 S PULASKI RD   60652.0   \n",
       "MARGARET'S                          5134 W IRVING PARK RD   60641.0   \n",
       "POPEYES FAMOUS FRIED CHICKEN         9516 S VINCENNES AVE   60643.0   \n",
       "PJ PIZZA COMPANY 1 DBA PAPA JOHNS          1755 W 87TH ST   60620.0   \n",
       "\n",
       "                                  Inspection Date        Inspection Type  \\\n",
       "DBA Name                                                                   \n",
       "THE MECCA RESTAURANT                   03/14/2017                Canvass   \n",
       "L & T CHINA FAST WOK INC.              03/14/2017                Canvass   \n",
       "SCHNEIDER  SENIOR  APARTMENT           03/14/2017  Canvass Re-Inspection   \n",
       "ECKHARDT CAFE                          03/14/2017                Canvass   \n",
       "WING ZONE                              03/14/2017                Canvass   \n",
       "ARBYS                                  03/14/2017                Canvass   \n",
       "LAS ISLAS MARIAS                       03/14/2017                Canvass   \n",
       "MARGARET'S                             03/14/2017                Canvass   \n",
       "POPEYES FAMOUS FRIED CHICKEN           03/14/2017              Complaint   \n",
       "PJ PIZZA COMPANY 1 DBA PAPA JOHNS      03/14/2017                Canvass   \n",
       "\n",
       "                                              Results  \\\n",
       "DBA Name                                                \n",
       "THE MECCA RESTAURANT               Pass w/ Conditions   \n",
       "L & T CHINA FAST WOK INC.                        Pass   \n",
       "SCHNEIDER  SENIOR  APARTMENT                     Pass   \n",
       "ECKHARDT CAFE                                    Pass   \n",
       "WING ZONE                             Out of Business   \n",
       "ARBYS                                            Pass   \n",
       "LAS ISLAS MARIAS                                 Pass   \n",
       "MARGARET'S                                       Pass   \n",
       "POPEYES FAMOUS FRIED CHICKEN       Pass w/ Conditions   \n",
       "PJ PIZZA COMPANY 1 DBA PAPA JOHNS     Out of Business   \n",
       "\n",
       "                                                                          Violations  \n",
       "DBA Name                                                                              \n",
       "THE MECCA RESTAURANT               8. SANITIZING RINSE FOR EQUIPMENT AND UTENSILS...  \n",
       "L & T CHINA FAST WOK INC.          33. FOOD AND NON-FOOD CONTACT EQUIPMENT UTENSI...  \n",
       "SCHNEIDER  SENIOR  APARTMENT       35. WALLS, CEILINGS, ATTACHED EQUIPMENT CONSTR...  \n",
       "ECKHARDT CAFE                      33. FOOD AND NON-FOOD CONTACT EQUIPMENT UTENSI...  \n",
       "WING ZONE                                                                        NaN  \n",
       "ARBYS                              34. FLOORS: CONSTRUCTED PER CODE, CLEANED, GOO...  \n",
       "LAS ISLAS MARIAS                   30. FOOD IN ORIGINAL CONTAINER, PROPERLY LABEL...  \n",
       "MARGARET'S                         33. FOOD AND NON-FOOD CONTACT EQUIPMENT UTENSI...  \n",
       "POPEYES FAMOUS FRIED CHICKEN       3. POTENTIALLY HAZARDOUS FOOD MEETS TEMPERATUR...  \n",
       "PJ PIZZA COMPANY 1 DBA PAPA JOHNS                                                NaN  "
      ]
     },
     "execution_count": 21,
     "metadata": {},
     "output_type": "execute_result"
    }
   ],
   "source": [
    "df.iloc[500:510]"
   ]
  },
  {
   "cell_type": "markdown",
   "metadata": {},
   "source": [
    "### Exercise 10\n",
    "<span  style=\"color:green; font-size:16px\">Select restaurants 100, 1,000 and 10,000 along with columns 5, 3, and 1</span>"
   ]
  },
  {
   "cell_type": "code",
   "execution_count": 22,
   "metadata": {},
   "outputs": [
    {
     "data": {
      "text/html": [
       "<div>\n",
       "<style scoped>\n",
       "    .dataframe tbody tr th:only-of-type {\n",
       "        vertical-align: middle;\n",
       "    }\n",
       "\n",
       "    .dataframe tbody tr th {\n",
       "        vertical-align: top;\n",
       "    }\n",
       "\n",
       "    .dataframe thead th {\n",
       "        text-align: right;\n",
       "    }\n",
       "</style>\n",
       "<table border=\"1\" class=\"dataframe\">\n",
       "  <thead>\n",
       "    <tr style=\"text-align: right;\">\n",
       "      <th></th>\n",
       "      <th>Inspection Type</th>\n",
       "      <th>Zip</th>\n",
       "      <th>Risk</th>\n",
       "    </tr>\n",
       "    <tr>\n",
       "      <th>DBA Name</th>\n",
       "      <th></th>\n",
       "      <th></th>\n",
       "      <th></th>\n",
       "    </tr>\n",
       "  </thead>\n",
       "  <tbody>\n",
       "    <tr>\n",
       "      <th>TAQUERIA LA CANTERA</th>\n",
       "      <td>License</td>\n",
       "      <td>60608.0</td>\n",
       "      <td>Risk 1 (High)</td>\n",
       "    </tr>\n",
       "    <tr>\n",
       "      <th>PARK TAVERN CHICAGO</th>\n",
       "      <td>Complaint</td>\n",
       "      <td>60612.0</td>\n",
       "      <td>Risk 1 (High)</td>\n",
       "    </tr>\n",
       "    <tr>\n",
       "      <th>LITTLE VILLAGE HIGH SCHOOL</th>\n",
       "      <td>Canvass</td>\n",
       "      <td>60623.0</td>\n",
       "      <td>Risk 1 (High)</td>\n",
       "    </tr>\n",
       "  </tbody>\n",
       "</table>\n",
       "</div>"
      ],
      "text/plain": [
       "                           Inspection Type      Zip           Risk\n",
       "DBA Name                                                          \n",
       "TAQUERIA LA CANTERA                License  60608.0  Risk 1 (High)\n",
       "PARK TAVERN CHICAGO              Complaint  60612.0  Risk 1 (High)\n",
       "LITTLE VILLAGE HIGH SCHOOL         Canvass  60623.0  Risk 1 (High)"
      ]
     },
     "execution_count": 22,
     "metadata": {},
     "output_type": "execute_result"
    }
   ],
   "source": [
    "df.iloc[[100, 1000, 10000], [5, 3, 1]]"
   ]
  },
  {
   "cell_type": "markdown",
   "metadata": {},
   "source": [
    "### Exercise 11\n",
    "<span  style=\"color:green; font-size:16px\">Select the **`Risk`** column and save it to a Series</span>"
   ]
  },
  {
   "cell_type": "code",
   "execution_count": 25,
   "metadata": {},
   "outputs": [
    {
     "data": {
      "text/plain": [
       "DBA Name\n",
       "DANY'S TACOS                 Risk 1 (High)\n",
       "BILLY FOOD MARKET INC         Risk 3 (Low)\n",
       "TAQUERIA HACIENDA TAPATIA    Risk 1 (High)\n",
       "WILD GOOSE BAR & GRILL       Risk 1 (High)\n",
       "PUBLICAN TAVERN K1           Risk 1 (High)\n",
       "Name: Risk, dtype: object"
      ]
     },
     "execution_count": 25,
     "metadata": {},
     "output_type": "execute_result"
    }
   ],
   "source": [
    "risk = df['Risk']\n",
    "risk.head()"
   ]
  },
  {
   "cell_type": "markdown",
   "metadata": {},
   "source": [
    "### Exercise 12\n",
    "<span  style=\"color:green; font-size:16px\">Using the risk Series, select **`ARBYS`** and **`POPEYES FAMOUS FRIED CHICKEN`**</span>"
   ]
  },
  {
   "cell_type": "code",
   "execution_count": 24,
   "metadata": {},
   "outputs": [
    {
     "data": {
      "text/plain": [
       "DBA Name\n",
       "ARBYS                             Risk 1 (High)\n",
       "POPEYES FAMOUS FRIED CHICKEN    Risk 2 (Medium)\n",
       "Name: Risk, dtype: object"
      ]
     },
     "execution_count": 24,
     "metadata": {},
     "output_type": "execute_result"
    }
   ],
   "source": [
    "risk.loc[['ARBYS', 'POPEYES FAMOUS FRIED CHICKEN']]"
   ]
  },
  {
   "cell_type": "code",
   "execution_count": null,
   "metadata": {
    "collapsed": true
   },
   "outputs": [],
   "source": []
  }
 ],
 "metadata": {
  "kernelspec": {
   "display_name": "Python 3",
   "language": "python",
   "name": "python3"
  },
  "language_info": {
   "codemirror_mode": {
    "name": "ipython",
    "version": 3
   },
   "file_extension": ".py",
   "mimetype": "text/x-python",
   "name": "python",
   "nbconvert_exporter": "python",
   "pygments_lexer": "ipython3",
   "version": "3.6.3"
  }
 },
 "nbformat": 4,
 "nbformat_minor": 2
}
