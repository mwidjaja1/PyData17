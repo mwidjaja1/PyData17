{
 "cells": [
  {
   "cell_type": "markdown",
   "metadata": {},
   "source": [
    "# Components of a groupby operation"
   ]
  },
  {
   "cell_type": "code",
   "execution_count": 1,
   "metadata": {},
   "outputs": [],
   "source": [
    "from IPython.display import IFrame"
   ]
  },
  {
   "cell_type": "code",
   "execution_count": 2,
   "metadata": {},
   "outputs": [
    {
     "data": {
      "text/html": [
       "\n",
       "        <iframe\n",
       "            width=\"400\"\n",
       "            height=\"300\"\n",
       "            src=\"http://etc.ch/Qiup\"\n",
       "            frameborder=\"0\"\n",
       "            allowfullscreen\n",
       "        ></iframe>\n",
       "        "
      ],
      "text/plain": [
       "<IPython.lib.display.IFrame at 0x10547b128>"
      ]
     },
     "execution_count": 2,
     "metadata": {},
     "output_type": "execute_result"
    }
   ],
   "source": [
    "IFrame('http://etc.ch/Qiup', 400, 300)"
   ]
  },
  {
   "cell_type": "code",
   "execution_count": 3,
   "metadata": {},
   "outputs": [
    {
     "data": {
      "text/html": [
       "\n",
       "        <iframe\n",
       "            width=\"400\"\n",
       "            height=\"300\"\n",
       "            src=\"https://directpoll.com/r?XDbzPBd3ixYqg8fScFM4ITaST2iNt4c8vN1EdJdK\"\n",
       "            frameborder=\"0\"\n",
       "            allowfullscreen\n",
       "        ></iframe>\n",
       "        "
      ],
      "text/plain": [
       "<IPython.lib.display.IFrame at 0x10547b518>"
      ]
     },
     "execution_count": 3,
     "metadata": {},
     "output_type": "execute_result"
    }
   ],
   "source": [
    "IFrame('https://directpoll.com/r?XDbzPBd3ixYqg8fScFM4ITaST2iNt4c8vN1EdJdK', 400, 300)"
   ]
  },
  {
   "cell_type": "markdown",
   "metadata": {},
   "source": [
    "# The three components of every groupby aggregation\n",
    "There are three components to every groupby operation that can help you understand the syntax\n",
    "\n",
    "* **Grouping columns** - the unique values of these columns for independent groups\n",
    "* **Aggregating columns** - The values in these columns will be aggregated into a single value\n",
    "* **Aggregating functions** - These functions are independently applied to each aggregating column of each group\n",
    "\n",
    "The syntax will look something similar to this:\n",
    "\n",
    "```\n",
    ">>> df.groupby(['grouping', 'columns'])['aggregating', 'columns'].agg(['aggregating', 'functions'])\n",
    "```\n",
    "\n",
    "There are many additional syntaxes but each groupby aggregation will always have these three components."
   ]
  },
  {
   "cell_type": "markdown",
   "metadata": {},
   "source": [
    "### A fairly simple groupby\n",
    "Let's do an exercise to get us started"
   ]
  },
  {
   "cell_type": "code",
   "execution_count": 4,
   "metadata": {},
   "outputs": [],
   "source": [
    "import pandas as pd\n",
    "import numpy as np"
   ]
  },
  {
   "cell_type": "code",
   "execution_count": 5,
   "metadata": {},
   "outputs": [
    {
     "data": {
      "text/html": [
       "<div>\n",
       "<style scoped>\n",
       "    .dataframe tbody tr th:only-of-type {\n",
       "        vertical-align: middle;\n",
       "    }\n",
       "\n",
       "    .dataframe tbody tr th {\n",
       "        vertical-align: top;\n",
       "    }\n",
       "\n",
       "    .dataframe thead th {\n",
       "        text-align: right;\n",
       "    }\n",
       "</style>\n",
       "<table border=\"1\" class=\"dataframe\">\n",
       "  <thead>\n",
       "    <tr style=\"text-align: right;\">\n",
       "      <th></th>\n",
       "      <th>INSTNM</th>\n",
       "      <th>CITY</th>\n",
       "      <th>STABBR</th>\n",
       "      <th>HBCU</th>\n",
       "      <th>MENONLY</th>\n",
       "      <th>WOMENONLY</th>\n",
       "      <th>RELAFFIL</th>\n",
       "      <th>SATVRMID</th>\n",
       "      <th>SATMTMID</th>\n",
       "      <th>DISTANCEONLY</th>\n",
       "      <th>...</th>\n",
       "      <th>UGDS_2MOR</th>\n",
       "      <th>UGDS_NRA</th>\n",
       "      <th>UGDS_UNKN</th>\n",
       "      <th>PPTUG_EF</th>\n",
       "      <th>CURROPER</th>\n",
       "      <th>PCTPELL</th>\n",
       "      <th>PCTFLOAN</th>\n",
       "      <th>UG25ABV</th>\n",
       "      <th>MD_EARN_WNE_P10</th>\n",
       "      <th>GRAD_DEBT_MDN_SUPP</th>\n",
       "    </tr>\n",
       "  </thead>\n",
       "  <tbody>\n",
       "    <tr>\n",
       "      <th>0</th>\n",
       "      <td>Alabama A &amp; M University</td>\n",
       "      <td>Normal</td>\n",
       "      <td>AL</td>\n",
       "      <td>1.0</td>\n",
       "      <td>0.0</td>\n",
       "      <td>0.0</td>\n",
       "      <td>0</td>\n",
       "      <td>424.0</td>\n",
       "      <td>420.0</td>\n",
       "      <td>0.0</td>\n",
       "      <td>...</td>\n",
       "      <td>0.0000</td>\n",
       "      <td>0.0059</td>\n",
       "      <td>0.0138</td>\n",
       "      <td>0.0656</td>\n",
       "      <td>1</td>\n",
       "      <td>0.7356</td>\n",
       "      <td>0.8284</td>\n",
       "      <td>0.1049</td>\n",
       "      <td>30300</td>\n",
       "      <td>33888</td>\n",
       "    </tr>\n",
       "    <tr>\n",
       "      <th>1</th>\n",
       "      <td>University of Alabama at Birmingham</td>\n",
       "      <td>Birmingham</td>\n",
       "      <td>AL</td>\n",
       "      <td>0.0</td>\n",
       "      <td>0.0</td>\n",
       "      <td>0.0</td>\n",
       "      <td>0</td>\n",
       "      <td>570.0</td>\n",
       "      <td>565.0</td>\n",
       "      <td>0.0</td>\n",
       "      <td>...</td>\n",
       "      <td>0.0368</td>\n",
       "      <td>0.0179</td>\n",
       "      <td>0.0100</td>\n",
       "      <td>0.2607</td>\n",
       "      <td>1</td>\n",
       "      <td>0.3460</td>\n",
       "      <td>0.5214</td>\n",
       "      <td>0.2422</td>\n",
       "      <td>39700</td>\n",
       "      <td>21941.5</td>\n",
       "    </tr>\n",
       "    <tr>\n",
       "      <th>2</th>\n",
       "      <td>Amridge University</td>\n",
       "      <td>Montgomery</td>\n",
       "      <td>AL</td>\n",
       "      <td>0.0</td>\n",
       "      <td>0.0</td>\n",
       "      <td>0.0</td>\n",
       "      <td>1</td>\n",
       "      <td>NaN</td>\n",
       "      <td>NaN</td>\n",
       "      <td>1.0</td>\n",
       "      <td>...</td>\n",
       "      <td>0.0000</td>\n",
       "      <td>0.0000</td>\n",
       "      <td>0.2715</td>\n",
       "      <td>0.4536</td>\n",
       "      <td>1</td>\n",
       "      <td>0.6801</td>\n",
       "      <td>0.7795</td>\n",
       "      <td>0.8540</td>\n",
       "      <td>40100</td>\n",
       "      <td>23370</td>\n",
       "    </tr>\n",
       "    <tr>\n",
       "      <th>3</th>\n",
       "      <td>University of Alabama in Huntsville</td>\n",
       "      <td>Huntsville</td>\n",
       "      <td>AL</td>\n",
       "      <td>0.0</td>\n",
       "      <td>0.0</td>\n",
       "      <td>0.0</td>\n",
       "      <td>0</td>\n",
       "      <td>595.0</td>\n",
       "      <td>590.0</td>\n",
       "      <td>0.0</td>\n",
       "      <td>...</td>\n",
       "      <td>0.0172</td>\n",
       "      <td>0.0332</td>\n",
       "      <td>0.0350</td>\n",
       "      <td>0.2146</td>\n",
       "      <td>1</td>\n",
       "      <td>0.3072</td>\n",
       "      <td>0.4596</td>\n",
       "      <td>0.2640</td>\n",
       "      <td>45500</td>\n",
       "      <td>24097</td>\n",
       "    </tr>\n",
       "    <tr>\n",
       "      <th>4</th>\n",
       "      <td>Alabama State University</td>\n",
       "      <td>Montgomery</td>\n",
       "      <td>AL</td>\n",
       "      <td>1.0</td>\n",
       "      <td>0.0</td>\n",
       "      <td>0.0</td>\n",
       "      <td>0</td>\n",
       "      <td>425.0</td>\n",
       "      <td>430.0</td>\n",
       "      <td>0.0</td>\n",
       "      <td>...</td>\n",
       "      <td>0.0098</td>\n",
       "      <td>0.0243</td>\n",
       "      <td>0.0137</td>\n",
       "      <td>0.0892</td>\n",
       "      <td>1</td>\n",
       "      <td>0.7347</td>\n",
       "      <td>0.7554</td>\n",
       "      <td>0.1270</td>\n",
       "      <td>26600</td>\n",
       "      <td>33118.5</td>\n",
       "    </tr>\n",
       "  </tbody>\n",
       "</table>\n",
       "<p>5 rows × 27 columns</p>\n",
       "</div>"
      ],
      "text/plain": [
       "                                INSTNM        CITY STABBR  HBCU  MENONLY  \\\n",
       "0             Alabama A & M University      Normal     AL   1.0      0.0   \n",
       "1  University of Alabama at Birmingham  Birmingham     AL   0.0      0.0   \n",
       "2                   Amridge University  Montgomery     AL   0.0      0.0   \n",
       "3  University of Alabama in Huntsville  Huntsville     AL   0.0      0.0   \n",
       "4             Alabama State University  Montgomery     AL   1.0      0.0   \n",
       "\n",
       "   WOMENONLY  RELAFFIL  SATVRMID  SATMTMID  DISTANCEONLY         ...          \\\n",
       "0        0.0         0     424.0     420.0           0.0         ...           \n",
       "1        0.0         0     570.0     565.0           0.0         ...           \n",
       "2        0.0         1       NaN       NaN           1.0         ...           \n",
       "3        0.0         0     595.0     590.0           0.0         ...           \n",
       "4        0.0         0     425.0     430.0           0.0         ...           \n",
       "\n",
       "   UGDS_2MOR  UGDS_NRA  UGDS_UNKN  PPTUG_EF  CURROPER  PCTPELL  PCTFLOAN  \\\n",
       "0     0.0000    0.0059     0.0138    0.0656         1   0.7356    0.8284   \n",
       "1     0.0368    0.0179     0.0100    0.2607         1   0.3460    0.5214   \n",
       "2     0.0000    0.0000     0.2715    0.4536         1   0.6801    0.7795   \n",
       "3     0.0172    0.0332     0.0350    0.2146         1   0.3072    0.4596   \n",
       "4     0.0098    0.0243     0.0137    0.0892         1   0.7347    0.7554   \n",
       "\n",
       "   UG25ABV  MD_EARN_WNE_P10  GRAD_DEBT_MDN_SUPP  \n",
       "0   0.1049            30300               33888  \n",
       "1   0.2422            39700             21941.5  \n",
       "2   0.8540            40100               23370  \n",
       "3   0.2640            45500               24097  \n",
       "4   0.1270            26600             33118.5  \n",
       "\n",
       "[5 rows x 27 columns]"
      ]
     },
     "execution_count": 5,
     "metadata": {},
     "output_type": "execute_result"
    }
   ],
   "source": [
    "college = pd.read_csv('../data/college.csv')\n",
    "college.head()"
   ]
  },
  {
   "cell_type": "markdown",
   "metadata": {},
   "source": [
    "### Exercise 1\n",
    "<span style=\"color:green; font-size:16px\">Find the average and max SAT Math and Verbal scores by state and religious affiliation.</span>"
   ]
  },
  {
   "cell_type": "code",
   "execution_count": 23,
   "metadata": {},
   "outputs": [
    {
     "data": {
      "text/html": [
       "<div>\n",
       "<style scoped>\n",
       "    .dataframe tbody tr th:only-of-type {\n",
       "        vertical-align: middle;\n",
       "    }\n",
       "\n",
       "    .dataframe tbody tr th {\n",
       "        vertical-align: top;\n",
       "    }\n",
       "\n",
       "    .dataframe thead tr th {\n",
       "        text-align: left;\n",
       "    }\n",
       "\n",
       "    .dataframe thead tr:last-of-type th {\n",
       "        text-align: right;\n",
       "    }\n",
       "</style>\n",
       "<table border=\"1\" class=\"dataframe\">\n",
       "  <thead>\n",
       "    <tr>\n",
       "      <th></th>\n",
       "      <th></th>\n",
       "      <th colspan=\"2\" halign=\"left\">SATVRMID</th>\n",
       "      <th colspan=\"2\" halign=\"left\">SATMTMID</th>\n",
       "    </tr>\n",
       "    <tr>\n",
       "      <th></th>\n",
       "      <th></th>\n",
       "      <th>mean</th>\n",
       "      <th>max</th>\n",
       "      <th>mean</th>\n",
       "      <th>max</th>\n",
       "    </tr>\n",
       "    <tr>\n",
       "      <th>STABBR</th>\n",
       "      <th>RELAFFIL</th>\n",
       "      <th></th>\n",
       "      <th></th>\n",
       "      <th></th>\n",
       "      <th></th>\n",
       "    </tr>\n",
       "  </thead>\n",
       "  <tbody>\n",
       "    <tr>\n",
       "      <th>AK</th>\n",
       "      <th>1</th>\n",
       "      <td>555</td>\n",
       "      <td>555</td>\n",
       "      <td>503</td>\n",
       "      <td>503</td>\n",
       "    </tr>\n",
       "    <tr>\n",
       "      <th rowspan=\"2\" valign=\"top\">AL</th>\n",
       "      <th>0</th>\n",
       "      <td>514</td>\n",
       "      <td>595</td>\n",
       "      <td>515</td>\n",
       "      <td>590</td>\n",
       "    </tr>\n",
       "    <tr>\n",
       "      <th>1</th>\n",
       "      <td>498</td>\n",
       "      <td>565</td>\n",
       "      <td>485</td>\n",
       "      <td>560</td>\n",
       "    </tr>\n",
       "    <tr>\n",
       "      <th rowspan=\"2\" valign=\"top\">AR</th>\n",
       "      <th>0</th>\n",
       "      <td>481</td>\n",
       "      <td>555</td>\n",
       "      <td>503</td>\n",
       "      <td>565</td>\n",
       "    </tr>\n",
       "    <tr>\n",
       "      <th>1</th>\n",
       "      <td>505</td>\n",
       "      <td>600</td>\n",
       "      <td>531</td>\n",
       "      <td>600</td>\n",
       "    </tr>\n",
       "    <tr>\n",
       "      <th rowspan=\"2\" valign=\"top\">AZ</th>\n",
       "      <th>0</th>\n",
       "      <td>549</td>\n",
       "      <td>565</td>\n",
       "      <td>548</td>\n",
       "      <td>580</td>\n",
       "    </tr>\n",
       "    <tr>\n",
       "      <th>1</th>\n",
       "      <td>485</td>\n",
       "      <td>485</td>\n",
       "      <td>480</td>\n",
       "      <td>480</td>\n",
       "    </tr>\n",
       "    <tr>\n",
       "      <th rowspan=\"2\" valign=\"top\">CA</th>\n",
       "      <th>0</th>\n",
       "      <td>561</td>\n",
       "      <td>765</td>\n",
       "      <td>584</td>\n",
       "      <td>785</td>\n",
       "    </tr>\n",
       "    <tr>\n",
       "      <th>1</th>\n",
       "      <td>529</td>\n",
       "      <td>665</td>\n",
       "      <td>528</td>\n",
       "      <td>665</td>\n",
       "    </tr>\n",
       "    <tr>\n",
       "      <th>CO</th>\n",
       "      <th>0</th>\n",
       "      <td>537</td>\n",
       "      <td>635</td>\n",
       "      <td>541</td>\n",
       "      <td>680</td>\n",
       "    </tr>\n",
       "  </tbody>\n",
       "</table>\n",
       "</div>"
      ],
      "text/plain": [
       "                SATVRMID      SATMTMID     \n",
       "                    mean  max     mean  max\n",
       "STABBR RELAFFIL                            \n",
       "AK     1             555  555      503  503\n",
       "AL     0             514  595      515  590\n",
       "       1             498  565      485  560\n",
       "AR     0             481  555      503  565\n",
       "       1             505  600      531  600\n",
       "AZ     0             549  565      548  580\n",
       "       1             485  485      480  480\n",
       "CA     0             561  765      584  785\n",
       "       1             529  665      528  665\n",
       "CO     0             537  635      541  680"
      ]
     },
     "execution_count": 23,
     "metadata": {},
     "output_type": "execute_result"
    }
   ],
   "source": [
    "state_sat = college.groupby(['STABBR', 'RELAFFIL'])['SATVRMID', 'SATMTMID'].agg(['mean', 'max']) \\\n",
    "                                                                           .dropna() \\\n",
    "                                                                           .astype(int)\n",
    "state_sat.head(10)"
   ]
  },
  {
   "cell_type": "markdown",
   "metadata": {},
   "source": [
    "Copy and paste solution in the next cell from Solutions notebook. \n",
    "\n",
    "Side note: It's possible to create 'exercise' cells with [nbextensions](https://github.com/ipython-contrib/jupyter_contrib_nbextensions)."
   ]
  },
  {
   "cell_type": "code",
   "execution_count": null,
   "metadata": {},
   "outputs": [],
   "source": [
    "# copy solution here"
   ]
  },
  {
   "cell_type": "code",
   "execution_count": null,
   "metadata": {},
   "outputs": [],
   "source": [
    "state_sat.head(10)"
   ]
  },
  {
   "cell_type": "markdown",
   "metadata": {},
   "source": [
    "## Flattening a MultiIndex\n",
    "\n",
    "### Many options available to go back to a single level index\n",
    "\n",
    "* Rename manually with a list\n",
    "* Concatenation of level values\n",
    "* Swift `map` method"
   ]
  },
  {
   "cell_type": "code",
   "execution_count": null,
   "metadata": {},
   "outputs": [],
   "source": [
    "state_sat.columns.get_level_values(0) + '_' + state_sat.columns.get_level_values(1)"
   ]
  },
  {
   "cell_type": "markdown",
   "metadata": {},
   "source": [
    "#### Swift Index `map` method\n",
    "\n",
    "Let's see a simple example in pure Python first"
   ]
  },
  {
   "cell_type": "code",
   "execution_count": null,
   "metadata": {
    "collapsed": true
   },
   "outputs": [],
   "source": [
    "t = ('first', 'second')"
   ]
  },
  {
   "cell_type": "code",
   "execution_count": null,
   "metadata": {},
   "outputs": [],
   "source": [
    "'some phrase {0}'.format(t)"
   ]
  },
  {
   "cell_type": "code",
   "execution_count": null,
   "metadata": {},
   "outputs": [],
   "source": [
    "'some phrase {0[0]}'.format(t)"
   ]
  },
  {
   "cell_type": "code",
   "execution_count": null,
   "metadata": {},
   "outputs": [],
   "source": [
    "'some phrase {0[0]} - {0[1]}'.format(t)"
   ]
  },
  {
   "cell_type": "markdown",
   "metadata": {},
   "source": [
    "Let's use this idea with the **`map`** Index method"
   ]
  },
  {
   "cell_type": "code",
   "execution_count": null,
   "metadata": {},
   "outputs": [],
   "source": [
    "state_sat.columns.map('{0[0]}_{0[1]}'.format)"
   ]
  },
  {
   "cell_type": "markdown",
   "metadata": {},
   "source": [
    "Or like this"
   ]
  },
  {
   "cell_type": "code",
   "execution_count": null,
   "metadata": {},
   "outputs": [],
   "source": [
    "state_sat.columns.map('_'.join)"
   ]
  },
  {
   "cell_type": "markdown",
   "metadata": {},
   "source": [
    "### Exercise 2\n",
    "<span style=\"color:green; font-size:16px\">Why would we ever use the method with **`map`** when **`join`** is more straightforward. Turn the **`state_sat`** DataFrame with single level index and columns.</span>"
   ]
  },
  {
   "cell_type": "code",
   "execution_count": null,
   "metadata": {
    "collapsed": true
   },
   "outputs": [],
   "source": [
    "# your code here"
   ]
  },
  {
   "cell_type": "markdown",
   "metadata": {},
   "source": [
    "# `agg` vs `apply` on a groupby object"
   ]
  },
  {
   "cell_type": "code",
   "execution_count": 6,
   "metadata": {},
   "outputs": [
    {
     "data": {
      "text/html": [
       "\n",
       "        <iframe\n",
       "            width=\"400\"\n",
       "            height=\"300\"\n",
       "            src=\"http://etc.ch/Xig7\"\n",
       "            frameborder=\"0\"\n",
       "            allowfullscreen\n",
       "        ></iframe>\n",
       "        "
      ],
      "text/plain": [
       "<IPython.lib.display.IFrame at 0x103f3cba8>"
      ]
     },
     "execution_count": 6,
     "metadata": {},
     "output_type": "execute_result"
    }
   ],
   "source": [
    "IFrame('http://etc.ch/Xig7', 400, 300)"
   ]
  },
  {
   "cell_type": "code",
   "execution_count": 7,
   "metadata": {},
   "outputs": [
    {
     "data": {
      "text/html": [
       "\n",
       "        <iframe\n",
       "            width=\"400\"\n",
       "            height=\"300\"\n",
       "            src=\"https://directpoll.com/r?XDbzPBd3ixYqg8FSFbM44x1kSxKzcBd8htg8WwN5Vx\"\n",
       "            frameborder=\"0\"\n",
       "            allowfullscreen\n",
       "        ></iframe>\n",
       "        "
      ],
      "text/plain": [
       "<IPython.lib.display.IFrame at 0x10547b4e0>"
      ]
     },
     "execution_count": 7,
     "metadata": {},
     "output_type": "execute_result"
    }
   ],
   "source": [
    "IFrame('https://directpoll.com/r?XDbzPBd3ixYqg8FSFbM44x1kSxKzcBd8htg8WwN5Vx', 400, 300) "
   ]
  },
  {
   "cell_type": "markdown",
   "metadata": {},
   "source": [
    "**`agg`** must return a single value for each function. Each column is passed into the function as a Series. It cannot 'see' any other data.\n",
    "\n",
    "The groupby **`apply`** method can return a single value, a Series or a DataFrame. You must supply a custom function to **`apply`**. This custom function accepts the entire group as a **`DataFrame`**. "
   ]
  },
  {
   "cell_type": "markdown",
   "metadata": {},
   "source": [
    "### Simple examples to see how the groupby `apply` works"
   ]
  },
  {
   "cell_type": "code",
   "execution_count": 20,
   "metadata": {},
   "outputs": [],
   "source": [
    "def return_single(x):\n",
    "    return 'a single value'\n",
    "\n",
    "def return_series(x):\n",
    "    return pd.Series(data=['value 1', 'value 2'], index=['col A', 'col B'])\n",
    "\n",
    "def return_df(x):\n",
    "    return pd.DataFrame(np.random.rand(3,2), \n",
    "                        index=['row one', 'row two', 'row three'], \n",
    "                        columns=['col A', 'col B'])"
   ]
  },
  {
   "cell_type": "code",
   "execution_count": 21,
   "metadata": {},
   "outputs": [
    {
     "data": {
      "text/plain": [
       "STABBR  RELAFFIL\n",
       "AK      0           a single value\n",
       "        1           a single value\n",
       "AL      0           a single value\n",
       "        1           a single value\n",
       "AR      0           a single value\n",
       "        1           a single value\n",
       "AS      0           a single value\n",
       "AZ      0           a single value\n",
       "        1           a single value\n",
       "CA      0           a single value\n",
       "dtype: object"
      ]
     },
     "execution_count": 21,
     "metadata": {},
     "output_type": "execute_result"
    }
   ],
   "source": [
    "college.groupby(['STABBR', 'RELAFFIL']).apply(return_single).head(10)"
   ]
  },
  {
   "cell_type": "code",
   "execution_count": 22,
   "metadata": {},
   "outputs": [
    {
     "data": {
      "text/html": [
       "<div>\n",
       "<style scoped>\n",
       "    .dataframe tbody tr th:only-of-type {\n",
       "        vertical-align: middle;\n",
       "    }\n",
       "\n",
       "    .dataframe tbody tr th {\n",
       "        vertical-align: top;\n",
       "    }\n",
       "\n",
       "    .dataframe thead th {\n",
       "        text-align: right;\n",
       "    }\n",
       "</style>\n",
       "<table border=\"1\" class=\"dataframe\">\n",
       "  <thead>\n",
       "    <tr style=\"text-align: right;\">\n",
       "      <th></th>\n",
       "      <th></th>\n",
       "      <th>col A</th>\n",
       "      <th>col B</th>\n",
       "    </tr>\n",
       "    <tr>\n",
       "      <th>STABBR</th>\n",
       "      <th>RELAFFIL</th>\n",
       "      <th></th>\n",
       "      <th></th>\n",
       "    </tr>\n",
       "  </thead>\n",
       "  <tbody>\n",
       "    <tr>\n",
       "      <th rowspan=\"2\" valign=\"top\">AK</th>\n",
       "      <th>0</th>\n",
       "      <td>value 1</td>\n",
       "      <td>value 2</td>\n",
       "    </tr>\n",
       "    <tr>\n",
       "      <th>1</th>\n",
       "      <td>value 1</td>\n",
       "      <td>value 2</td>\n",
       "    </tr>\n",
       "    <tr>\n",
       "      <th rowspan=\"2\" valign=\"top\">AL</th>\n",
       "      <th>0</th>\n",
       "      <td>value 1</td>\n",
       "      <td>value 2</td>\n",
       "    </tr>\n",
       "    <tr>\n",
       "      <th>1</th>\n",
       "      <td>value 1</td>\n",
       "      <td>value 2</td>\n",
       "    </tr>\n",
       "    <tr>\n",
       "      <th rowspan=\"2\" valign=\"top\">AR</th>\n",
       "      <th>0</th>\n",
       "      <td>value 1</td>\n",
       "      <td>value 2</td>\n",
       "    </tr>\n",
       "    <tr>\n",
       "      <th>1</th>\n",
       "      <td>value 1</td>\n",
       "      <td>value 2</td>\n",
       "    </tr>\n",
       "    <tr>\n",
       "      <th>AS</th>\n",
       "      <th>0</th>\n",
       "      <td>value 1</td>\n",
       "      <td>value 2</td>\n",
       "    </tr>\n",
       "    <tr>\n",
       "      <th rowspan=\"2\" valign=\"top\">AZ</th>\n",
       "      <th>0</th>\n",
       "      <td>value 1</td>\n",
       "      <td>value 2</td>\n",
       "    </tr>\n",
       "    <tr>\n",
       "      <th>1</th>\n",
       "      <td>value 1</td>\n",
       "      <td>value 2</td>\n",
       "    </tr>\n",
       "    <tr>\n",
       "      <th>CA</th>\n",
       "      <th>0</th>\n",
       "      <td>value 1</td>\n",
       "      <td>value 2</td>\n",
       "    </tr>\n",
       "  </tbody>\n",
       "</table>\n",
       "</div>"
      ],
      "text/plain": [
       "                   col A    col B\n",
       "STABBR RELAFFIL                  \n",
       "AK     0         value 1  value 2\n",
       "       1         value 1  value 2\n",
       "AL     0         value 1  value 2\n",
       "       1         value 1  value 2\n",
       "AR     0         value 1  value 2\n",
       "       1         value 1  value 2\n",
       "AS     0         value 1  value 2\n",
       "AZ     0         value 1  value 2\n",
       "       1         value 1  value 2\n",
       "CA     0         value 1  value 2"
      ]
     },
     "execution_count": 22,
     "metadata": {},
     "output_type": "execute_result"
    }
   ],
   "source": [
    "college.groupby(['STABBR', 'RELAFFIL']).apply(return_series).head(10)"
   ]
  },
  {
   "cell_type": "code",
   "execution_count": 11,
   "metadata": {},
   "outputs": [
    {
     "data": {
      "text/html": [
       "<div>\n",
       "<style scoped>\n",
       "    .dataframe tbody tr th:only-of-type {\n",
       "        vertical-align: middle;\n",
       "    }\n",
       "\n",
       "    .dataframe tbody tr th {\n",
       "        vertical-align: top;\n",
       "    }\n",
       "\n",
       "    .dataframe thead th {\n",
       "        text-align: right;\n",
       "    }\n",
       "</style>\n",
       "<table border=\"1\" class=\"dataframe\">\n",
       "  <thead>\n",
       "    <tr style=\"text-align: right;\">\n",
       "      <th></th>\n",
       "      <th></th>\n",
       "      <th></th>\n",
       "      <th>col A</th>\n",
       "      <th>col B</th>\n",
       "    </tr>\n",
       "    <tr>\n",
       "      <th>STABBR</th>\n",
       "      <th>RELAFFIL</th>\n",
       "      <th></th>\n",
       "      <th></th>\n",
       "      <th></th>\n",
       "    </tr>\n",
       "  </thead>\n",
       "  <tbody>\n",
       "    <tr>\n",
       "      <th rowspan=\"6\" valign=\"top\">AK</th>\n",
       "      <th rowspan=\"3\" valign=\"top\">0</th>\n",
       "      <th>row one</th>\n",
       "      <td>0.323751</td>\n",
       "      <td>0.178119</td>\n",
       "    </tr>\n",
       "    <tr>\n",
       "      <th>row two</th>\n",
       "      <td>0.617646</td>\n",
       "      <td>0.007139</td>\n",
       "    </tr>\n",
       "    <tr>\n",
       "      <th>row three</th>\n",
       "      <td>0.760896</td>\n",
       "      <td>0.245973</td>\n",
       "    </tr>\n",
       "    <tr>\n",
       "      <th rowspan=\"3\" valign=\"top\">1</th>\n",
       "      <th>row one</th>\n",
       "      <td>0.161494</td>\n",
       "      <td>0.001277</td>\n",
       "    </tr>\n",
       "    <tr>\n",
       "      <th>row two</th>\n",
       "      <td>0.595980</td>\n",
       "      <td>0.537512</td>\n",
       "    </tr>\n",
       "    <tr>\n",
       "      <th>row three</th>\n",
       "      <td>0.729461</td>\n",
       "      <td>0.601564</td>\n",
       "    </tr>\n",
       "    <tr>\n",
       "      <th rowspan=\"6\" valign=\"top\">AL</th>\n",
       "      <th rowspan=\"3\" valign=\"top\">0</th>\n",
       "      <th>row one</th>\n",
       "      <td>0.056789</td>\n",
       "      <td>0.058201</td>\n",
       "    </tr>\n",
       "    <tr>\n",
       "      <th>row two</th>\n",
       "      <td>0.606868</td>\n",
       "      <td>0.508540</td>\n",
       "    </tr>\n",
       "    <tr>\n",
       "      <th>row three</th>\n",
       "      <td>0.434612</td>\n",
       "      <td>0.751814</td>\n",
       "    </tr>\n",
       "    <tr>\n",
       "      <th rowspan=\"3\" valign=\"top\">1</th>\n",
       "      <th>row one</th>\n",
       "      <td>0.244602</td>\n",
       "      <td>0.746838</td>\n",
       "    </tr>\n",
       "    <tr>\n",
       "      <th>row two</th>\n",
       "      <td>0.519312</td>\n",
       "      <td>0.733865</td>\n",
       "    </tr>\n",
       "    <tr>\n",
       "      <th>row three</th>\n",
       "      <td>0.837961</td>\n",
       "      <td>0.795860</td>\n",
       "    </tr>\n",
       "    <tr>\n",
       "      <th rowspan=\"6\" valign=\"top\">AR</th>\n",
       "      <th rowspan=\"3\" valign=\"top\">0</th>\n",
       "      <th>row one</th>\n",
       "      <td>0.992580</td>\n",
       "      <td>0.815960</td>\n",
       "    </tr>\n",
       "    <tr>\n",
       "      <th>row two</th>\n",
       "      <td>0.780491</td>\n",
       "      <td>0.626910</td>\n",
       "    </tr>\n",
       "    <tr>\n",
       "      <th>row three</th>\n",
       "      <td>0.191051</td>\n",
       "      <td>0.278715</td>\n",
       "    </tr>\n",
       "    <tr>\n",
       "      <th rowspan=\"3\" valign=\"top\">1</th>\n",
       "      <th>row one</th>\n",
       "      <td>0.877312</td>\n",
       "      <td>0.929606</td>\n",
       "    </tr>\n",
       "    <tr>\n",
       "      <th>row two</th>\n",
       "      <td>0.135662</td>\n",
       "      <td>0.918103</td>\n",
       "    </tr>\n",
       "    <tr>\n",
       "      <th>row three</th>\n",
       "      <td>0.394820</td>\n",
       "      <td>0.941986</td>\n",
       "    </tr>\n",
       "    <tr>\n",
       "      <th rowspan=\"2\" valign=\"top\">AS</th>\n",
       "      <th rowspan=\"2\" valign=\"top\">0</th>\n",
       "      <th>row one</th>\n",
       "      <td>0.932502</td>\n",
       "      <td>0.672456</td>\n",
       "    </tr>\n",
       "    <tr>\n",
       "      <th>row two</th>\n",
       "      <td>0.461326</td>\n",
       "      <td>0.029888</td>\n",
       "    </tr>\n",
       "  </tbody>\n",
       "</table>\n",
       "</div>"
      ],
      "text/plain": [
       "                              col A     col B\n",
       "STABBR RELAFFIL                              \n",
       "AK     0        row one    0.323751  0.178119\n",
       "                row two    0.617646  0.007139\n",
       "                row three  0.760896  0.245973\n",
       "       1        row one    0.161494  0.001277\n",
       "                row two    0.595980  0.537512\n",
       "                row three  0.729461  0.601564\n",
       "AL     0        row one    0.056789  0.058201\n",
       "                row two    0.606868  0.508540\n",
       "                row three  0.434612  0.751814\n",
       "       1        row one    0.244602  0.746838\n",
       "                row two    0.519312  0.733865\n",
       "                row three  0.837961  0.795860\n",
       "AR     0        row one    0.992580  0.815960\n",
       "                row two    0.780491  0.626910\n",
       "                row three  0.191051  0.278715\n",
       "       1        row one    0.877312  0.929606\n",
       "                row two    0.135662  0.918103\n",
       "                row three  0.394820  0.941986\n",
       "AS     0        row one    0.932502  0.672456\n",
       "                row two    0.461326  0.029888"
      ]
     },
     "execution_count": 11,
     "metadata": {},
     "output_type": "execute_result"
    }
   ],
   "source": [
    "college.groupby(['STABBR', 'RELAFFIL']).apply(return_df).head(20)"
   ]
  },
  {
   "cell_type": "markdown",
   "metadata": {},
   "source": [
    "### Exercise 3\n",
    "<span style=\"color:green; font-size:16px\">Verify that the object passed to the custom function in **`apply`** is a DataFrame</span>"
   ]
  },
  {
   "cell_type": "code",
   "execution_count": 12,
   "metadata": {},
   "outputs": [],
   "source": [
    "# your code here"
   ]
  },
  {
   "cell_type": "markdown",
   "metadata": {},
   "source": [
    "### Exercise 4\n",
    "<span style=\"color:green; font-size:16px\">Calculate the average SAT Math scores per state weighted by undergraduate population</span>"
   ]
  },
  {
   "cell_type": "code",
   "execution_count": 24,
   "metadata": {},
   "outputs": [
    {
     "data": {
      "text/plain": [
       "STABBR\n",
       "AK    503\n",
       "AL    536\n",
       "AR    529\n",
       "AZ    569\n",
       "CA    564\n",
       "CO    553\n",
       "CT    545\n",
       "DC    621\n",
       "DE    569\n",
       "FL    565\n",
       "dtype: int64"
      ]
     },
     "execution_count": 24,
     "metadata": {},
     "output_type": "execute_result"
    }
   ],
   "source": [
    "college_drop = college[['STABBR', 'SATMTMID', 'UGDS']].dropna()\n",
    "\n",
    "def calc_wa(df):\n",
    "    wa =  (df['SATMTMID'] * df['UGDS']).sum() / df['UGDS'].sum()\n",
    "    return wa.astype(int)\n",
    "\n",
    "college_drop.groupby('STABBR').apply(calc_wa).head(10)"
   ]
  },
  {
   "cell_type": "markdown",
   "metadata": {},
   "source": [
    "## Can we calculate the weighted average without `apply`?"
   ]
  },
  {
   "cell_type": "code",
   "execution_count": 25,
   "metadata": {},
   "outputs": [],
   "source": [
    "college_drop = college[['STABBR', 'SATMTMID', 'UGDS']].dropna()"
   ]
  },
  {
   "cell_type": "code",
   "execution_count": 26,
   "metadata": {},
   "outputs": [
    {
     "data": {
      "text/html": [
       "<div>\n",
       "<style scoped>\n",
       "    .dataframe tbody tr th:only-of-type {\n",
       "        vertical-align: middle;\n",
       "    }\n",
       "\n",
       "    .dataframe tbody tr th {\n",
       "        vertical-align: top;\n",
       "    }\n",
       "\n",
       "    .dataframe thead th {\n",
       "        text-align: right;\n",
       "    }\n",
       "</style>\n",
       "<table border=\"1\" class=\"dataframe\">\n",
       "  <thead>\n",
       "    <tr style=\"text-align: right;\">\n",
       "      <th></th>\n",
       "      <th>STABBR</th>\n",
       "      <th>SATMTMID</th>\n",
       "      <th>UGDS</th>\n",
       "      <th>MATH_WT</th>\n",
       "    </tr>\n",
       "  </thead>\n",
       "  <tbody>\n",
       "    <tr>\n",
       "      <th>0</th>\n",
       "      <td>AL</td>\n",
       "      <td>420.0</td>\n",
       "      <td>4206.0</td>\n",
       "      <td>1766520.0</td>\n",
       "    </tr>\n",
       "    <tr>\n",
       "      <th>1</th>\n",
       "      <td>AL</td>\n",
       "      <td>565.0</td>\n",
       "      <td>11383.0</td>\n",
       "      <td>6431395.0</td>\n",
       "    </tr>\n",
       "    <tr>\n",
       "      <th>3</th>\n",
       "      <td>AL</td>\n",
       "      <td>590.0</td>\n",
       "      <td>5451.0</td>\n",
       "      <td>3216090.0</td>\n",
       "    </tr>\n",
       "    <tr>\n",
       "      <th>4</th>\n",
       "      <td>AL</td>\n",
       "      <td>430.0</td>\n",
       "      <td>4811.0</td>\n",
       "      <td>2068730.0</td>\n",
       "    </tr>\n",
       "    <tr>\n",
       "      <th>5</th>\n",
       "      <td>AL</td>\n",
       "      <td>565.0</td>\n",
       "      <td>29851.0</td>\n",
       "      <td>16865815.0</td>\n",
       "    </tr>\n",
       "  </tbody>\n",
       "</table>\n",
       "</div>"
      ],
      "text/plain": [
       "  STABBR  SATMTMID     UGDS     MATH_WT\n",
       "0     AL     420.0   4206.0   1766520.0\n",
       "1     AL     565.0  11383.0   6431395.0\n",
       "3     AL     590.0   5451.0   3216090.0\n",
       "4     AL     430.0   4811.0   2068730.0\n",
       "5     AL     565.0  29851.0  16865815.0"
      ]
     },
     "execution_count": 26,
     "metadata": {},
     "output_type": "execute_result"
    }
   ],
   "source": [
    "college_drop['MATH_WT'] = college_drop['SATMTMID'] * college_drop['UGDS']\n",
    "college_drop.head()"
   ]
  },
  {
   "cell_type": "code",
   "execution_count": 27,
   "metadata": {},
   "outputs": [
    {
     "data": {
      "text/html": [
       "<div>\n",
       "<style scoped>\n",
       "    .dataframe tbody tr th:only-of-type {\n",
       "        vertical-align: middle;\n",
       "    }\n",
       "\n",
       "    .dataframe tbody tr th {\n",
       "        vertical-align: top;\n",
       "    }\n",
       "\n",
       "    .dataframe thead th {\n",
       "        text-align: right;\n",
       "    }\n",
       "</style>\n",
       "<table border=\"1\" class=\"dataframe\">\n",
       "  <thead>\n",
       "    <tr style=\"text-align: right;\">\n",
       "      <th></th>\n",
       "      <th>MATH_WT</th>\n",
       "      <th>UGDS</th>\n",
       "    </tr>\n",
       "    <tr>\n",
       "      <th>STABBR</th>\n",
       "      <th></th>\n",
       "      <th></th>\n",
       "    </tr>\n",
       "  </thead>\n",
       "  <tbody>\n",
       "    <tr>\n",
       "      <th>AK</th>\n",
       "      <td>138325.0</td>\n",
       "      <td>275.0</td>\n",
       "    </tr>\n",
       "    <tr>\n",
       "      <th>AL</th>\n",
       "      <td>65028168.0</td>\n",
       "      <td>121290.0</td>\n",
       "    </tr>\n",
       "    <tr>\n",
       "      <th>AR</th>\n",
       "      <td>40588207.0</td>\n",
       "      <td>76710.0</td>\n",
       "    </tr>\n",
       "    <tr>\n",
       "      <th>AZ</th>\n",
       "      <td>32171364.0</td>\n",
       "      <td>56509.0</td>\n",
       "    </tr>\n",
       "    <tr>\n",
       "      <th>CA</th>\n",
       "      <td>381651138.0</td>\n",
       "      <td>675554.0</td>\n",
       "    </tr>\n",
       "  </tbody>\n",
       "</table>\n",
       "</div>"
      ],
      "text/plain": [
       "            MATH_WT      UGDS\n",
       "STABBR                       \n",
       "AK         138325.0     275.0\n",
       "AL       65028168.0  121290.0\n",
       "AR       40588207.0   76710.0\n",
       "AZ       32171364.0   56509.0\n",
       "CA      381651138.0  675554.0"
      ]
     },
     "execution_count": 27,
     "metadata": {},
     "output_type": "execute_result"
    }
   ],
   "source": [
    "c1 = college_drop.groupby('STABBR')['MATH_WT', 'UGDS'].agg('sum')\n",
    "c1.head()"
   ]
  },
  {
   "cell_type": "code",
   "execution_count": 28,
   "metadata": {},
   "outputs": [
    {
     "data": {
      "text/plain": [
       "STABBR\n",
       "AK    503\n",
       "AL    536\n",
       "AR    529\n",
       "AZ    569\n",
       "CA    564\n",
       "dtype: int64"
      ]
     },
     "execution_count": 28,
     "metadata": {},
     "output_type": "execute_result"
    }
   ],
   "source": [
    "(c1['MATH_WT'] / c1['UGDS']).astype(int).head()"
   ]
  },
  {
   "cell_type": "markdown",
   "metadata": {},
   "source": [
    "### Which way is faster?"
   ]
  },
  {
   "cell_type": "code",
   "execution_count": 29,
   "metadata": {},
   "outputs": [
    {
     "name": "stdout",
     "output_type": "stream",
     "text": [
      "2.97 ms ± 285 µs per loop (mean ± std. dev. of 7 runs, 100 loops each)\n"
     ]
    }
   ],
   "source": [
    "%%timeit \n",
    "college_drop['MATH_WT'] = college_drop['SATMTMID'] * college_drop['UGDS']\n",
    "c1 = college_drop.groupby('STABBR')['MATH_WT', 'UGDS'].agg('sum')\n",
    "(c1['MATH_WT'] / c1['UGDS']).astype(int).head()"
   ]
  },
  {
   "cell_type": "code",
   "execution_count": 30,
   "metadata": {},
   "outputs": [],
   "source": [
    "def calc_wa(df):\n",
    "    wa =  (df['SATMTMID'] * df['UGDS']).sum() / df['UGDS'].sum()\n",
    "    return wa.astype(int)"
   ]
  },
  {
   "cell_type": "code",
   "execution_count": 31,
   "metadata": {},
   "outputs": [
    {
     "name": "stdout",
     "output_type": "stream",
     "text": [
      "25.4 ms ± 2.36 ms per loop (mean ± std. dev. of 7 runs, 10 loops each)\n"
     ]
    }
   ],
   "source": [
    "%timeit college_drop.groupby('STABBR').apply(calc_wa).head(10)"
   ]
  },
  {
   "cell_type": "markdown",
   "metadata": {},
   "source": [
    "# Keeping tab completion\n",
    "\n",
    "Tab completion is an extremely useful feature. It disappears (some jedi) when you chain methods together."
   ]
  },
  {
   "cell_type": "code",
   "execution_count": null,
   "metadata": {
    "collapsed": true
   },
   "outputs": [],
   "source": [
    "college[['STABBR', 'SATMTMID', 'UGDS']].dropna().<press tab>"
   ]
  },
  {
   "cell_type": "markdown",
   "metadata": {},
   "source": [
    "To work around this, save intermediate steps to a variable"
   ]
  },
  {
   "cell_type": "markdown",
   "metadata": {},
   "source": [
    "### Press shift + tab + tab for help"
   ]
  },
  {
   "cell_type": "markdown",
   "metadata": {},
   "source": [
    "# Summary\n",
    "* Know the three components of a groupby aggregation - grouping columns, aggregating columns, aggregating functions\n",
    "* Flatten a MultiIndex with the **`map`** method\n",
    "* The groupby **`agg`** functions implicity get passed a Series and return a single value\n",
    "* The groupby **`apply`** functions implicitly get passed a DataFrame and can return a single value, Series or DataFrame\n",
    "* Can pre-calcualte a column to avoid **`apply`** and get better performance"
   ]
  },
  {
   "cell_type": "code",
   "execution_count": null,
   "metadata": {
    "collapsed": true
   },
   "outputs": [],
   "source": []
  }
 ],
 "metadata": {
  "kernelspec": {
   "display_name": "Python 3",
   "language": "python",
   "name": "python3"
  },
  "language_info": {
   "codemirror_mode": {
    "name": "ipython",
    "version": 3
   },
   "file_extension": ".py",
   "mimetype": "text/x-python",
   "name": "python",
   "nbconvert_exporter": "python",
   "pygments_lexer": "ipython3",
   "version": "3.6.3"
  }
 },
 "nbformat": 4,
 "nbformat_minor": 2
}
